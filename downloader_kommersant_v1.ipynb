{
 "cells": [
  {
   "cell_type": "markdown",
   "metadata": {},
   "source": [
    "# Статус\n",
    "\n",
    "- рубрика 4. Список статей"
   ]
  },
  {
   "cell_type": "code",
   "execution_count": 1,
   "metadata": {},
   "outputs": [],
   "source": [
    "import requests\n",
    "from bs4 import BeautifulSoup\n",
    "import pandas as pd\n",
    "import time"
   ]
  },
  {
   "cell_type": "code",
   "execution_count": 36,
   "metadata": {},
   "outputs": [
    {
     "name": "stdout",
     "output_type": "stream",
     "text": [
      "2019-12-31 https://www.kommersant.ru/archive/rubric/3//\r"
     ]
    }
   ],
   "source": [
    "\n",
    "u_l = ['4/', '40/', '3/']\n",
    "#u_l = ['40/', '3/']\n",
    "\n",
    "url_basic = 'https://www.kommersant.ru/archive/rubric/'\n",
    "res = pd.DataFrame()\n",
    "t0 = time.time()\n",
    "\n",
    "for u in u_l:\n",
    "    \n",
    "    url_ = url_basic + u\n",
    "    \n",
    "    for y in range(2016,2020):\n",
    "        for m in range(1,13):\n",
    "            for d in range(1,32):\n",
    "\n",
    "                    st_m = str(m)\n",
    "                    if len(st_m) == 1: st_m = '0'+st_m\n",
    "\n",
    "                    st_d = str(d)\n",
    "                    if len(st_d) == 1: st_d = '0'+st_d\n",
    "\n",
    "                    st = str(y) + '-' + st_m + '-' + st_d\n",
    "\n",
    "                    url = url_ + st\n",
    "\n",
    "                    try: \n",
    "                        page = requests.get(url)\n",
    "                    except:\n",
    "                        r = {'step':st,'rubric':u, 'error':'downloading error', 'time':(time.time()- t0)}\n",
    "                        res = res.append(pd.DataFrame(r, index = [len(res)]))\n",
    "                        continue\n",
    "\n",
    "                    try:\n",
    "                        p = BeautifulSoup(page.content, \"html.parser\")\n",
    "                        url_list = p.find_all('article')\n",
    "                    except:\n",
    "                        r = {'step':st,'rubric':u, 'error':'parsing error', 'time':(time.time()- t0)}\n",
    "                        res = res.append(pd.DataFrame(r, index = [len(res)]))\n",
    "\n",
    "\n",
    "                    for x in url_list:\n",
    "                        r = {'step':st,'rubric':u, 'url':x.find('a').get('href'), 'time':(time.time()- t0)}\n",
    "                        res = res.append(pd.DataFrame(r, index = [len(res)]))\n",
    "\n",
    "                    print(st, url_, end = '\\r')\n",
    "\n",
    "\n",
    "\n",
    "    #res.to_excel('res_40_2018.xlsx')"
   ]
  },
  {
   "cell_type": "code",
   "execution_count": 38,
   "metadata": {},
   "outputs": [],
   "source": [
    "res.to_excel('texts/kommersant_r_2.xlsx', index = False)"
   ]
  },
  {
   "cell_type": "code",
   "execution_count": 41,
   "metadata": {},
   "outputs": [],
   "source": [
    "res = pd.read_excel('texts/kommersant_r_1.xlsx').append(res)"
   ]
  },
  {
   "cell_type": "code",
   "execution_count": null,
   "metadata": {},
   "outputs": [],
   "source": []
  },
  {
   "cell_type": "code",
   "execution_count": 42,
   "metadata": {},
   "outputs": [
    {
     "data": {
      "text/plain": [
       "4/     76516\n",
       "40/    69869\n",
       "3/     69401\n",
       "Name: rubric, dtype: int64"
      ]
     },
     "execution_count": 42,
     "metadata": {},
     "output_type": "execute_result"
    }
   ],
   "source": [
    "def find_doc(x):\n",
    "    return x.find('/doc/') != -1\n",
    "\n",
    "res['flag'] = res['url'].apply(find_doc)\n",
    "res[res['flag']]['rubric'].value_counts()"
   ]
  },
  {
   "cell_type": "code",
   "execution_count": 45,
   "metadata": {},
   "outputs": [],
   "source": [
    "res = res[res['flag']]"
   ]
  },
  {
   "cell_type": "code",
   "execution_count": 48,
   "metadata": {},
   "outputs": [],
   "source": [
    "res = res.drop_duplicates(['url'])"
   ]
  },
  {
   "cell_type": "code",
   "execution_count": 50,
   "metadata": {},
   "outputs": [],
   "source": [
    "res.to_excel('texts/kommersant_r_total.xlsx', index = False)"
   ]
  },
  {
   "cell_type": "code",
   "execution_count": null,
   "metadata": {},
   "outputs": [],
   "source": []
  },
  {
   "cell_type": "code",
   "execution_count": 2,
   "metadata": {},
   "outputs": [],
   "source": [
    "from tqdm import tqdm"
   ]
  },
  {
   "cell_type": "code",
   "execution_count": 3,
   "metadata": {},
   "outputs": [],
   "source": [
    "res = pd.read_excel('texts/kommersant_r_total.xlsx')"
   ]
  },
  {
   "cell_type": "code",
   "execution_count": null,
   "metadata": {},
   "outputs": [],
   "source": []
  },
  {
   "cell_type": "code",
   "execution_count": 5,
   "metadata": {},
   "outputs": [],
   "source": [
    "url_list = res.copy()"
   ]
  },
  {
   "cell_type": "code",
   "execution_count": 6,
   "metadata": {},
   "outputs": [
    {
     "name": "stderr",
     "output_type": "stream",
     "text": [
      "100%|██████████| 3878/3878 [1:03:52<00:00,  2.88it/s]\n"
     ]
    }
   ],
   "source": [
    "\n",
    "\n",
    "url_ = 'https://www.kommersant.ru'\n",
    "#res = pd.read_excel('texts.xlsx')\n",
    "res = pd.DataFrame()\n",
    "\n",
    "urls = url_list['url'].tolist()\n",
    "\n",
    "\n",
    "\n",
    "for x_ in tqdm(range(29811, len(urls))):\n",
    "    \n",
    "    x = urls[x_]\n",
    "    url = url_ + x\n",
    "\n",
    "    try:\n",
    "        page = requests.get(url).content\n",
    "    except:\n",
    "        r = {'url': x, \"error\": \"downloading error\"}\n",
    "        res = res.append(pd.DataFrame(r, index=[len(res)]))\n",
    "        continue\n",
    "\n",
    "    p = BeautifulSoup(page, \"html.parser\")\n",
    "    p_ = p.find_all('p', {'class': \"b-article__text\"})\n",
    "    st = ''\n",
    "    for t in p_: st = st + t.text + ' '\n",
    "\n",
    "    try:\n",
    "        article_name = p.find_all('h2', {'class': \"article_name\"})[0].text\n",
    "    except:\n",
    "        try:\n",
    "            article_name = p.find_all('h1', {'class': \"article_name\"})[0].text\n",
    "        except:\n",
    "            article_name = None\n",
    "\n",
    "    try:\n",
    "        article_subheader = p.find_all('h1', {'class': \"article_subheader\"})[0].text\n",
    "    except:\n",
    "        article_subheader = None\n",
    "\n",
    "    try:\n",
    "        authors = p.find_all('p', {'class': \"b-article__text document_authors\"})[0].text\n",
    "    except:\n",
    "        authors = None\n",
    "\n",
    "    r = {'url': x, \"text\": st, \"authors\": authors, \"article_header\": article_name,\n",
    "         \"artical_subheader\": article_subheader}\n",
    "    res = res.append(pd.DataFrame(r, index=[len(res)]))\n"
   ]
  },
  {
   "cell_type": "code",
   "execution_count": 59,
   "metadata": {},
   "outputs": [],
   "source": [
    "res.to_excel('texts/kommersant.xlsx', index = False)"
   ]
  },
  {
   "cell_type": "code",
   "execution_count": 57,
   "metadata": {
    "collapsed": true
   },
   "outputs": [],
   "source": [
    "res.to_excel('texts_1.xlsx')"
   ]
  }
 ],
 "metadata": {
  "kernelspec": {
   "display_name": "Python 3",
   "language": "python",
   "name": "python3"
  },
  "language_info": {
   "codemirror_mode": {
    "name": "ipython",
    "version": 3
   },
   "file_extension": ".py",
   "mimetype": "text/x-python",
   "name": "python",
   "nbconvert_exporter": "python",
   "pygments_lexer": "ipython3",
   "version": "3.7.1"
  }
 },
 "nbformat": 4,
 "nbformat_minor": 2
}
