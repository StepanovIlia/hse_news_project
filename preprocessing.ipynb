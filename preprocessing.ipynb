{
 "cells": [
  {
   "cell_type": "code",
   "execution_count": 2,
   "metadata": {
    "collapsed": true
   },
   "outputs": [],
   "source": [
    "import pandas as pd\n",
    "import matplotlib.pyplot as plt\n",
    "import time\n",
    "import pickle"
   ]
  },
  {
   "cell_type": "markdown",
   "metadata": {},
   "source": [
    "# Коммерсант"
   ]
  },
  {
   "cell_type": "code",
   "execution_count": 2,
   "metadata": {
    "collapsed": true
   },
   "outputs": [],
   "source": [
    "# комменрсант\n",
    "f_1 = pd.read_excel('texts_3.xlsx')\n",
    "f_2 = pd.read_excel('texts.xlsx')\n",
    "k_1 = pd.concat([f_1,f_2])"
   ]
  },
  {
   "cell_type": "code",
   "execution_count": 58,
   "metadata": {},
   "outputs": [
    {
     "name": "stdout",
     "output_type": "stream",
     "text": [
      "16597\n"
     ]
    },
    {
     "data": {
      "text/html": [
       "<div>\n",
       "<style>\n",
       "    .dataframe thead tr:only-child th {\n",
       "        text-align: right;\n",
       "    }\n",
       "\n",
       "    .dataframe thead th {\n",
       "        text-align: left;\n",
       "    }\n",
       "\n",
       "    .dataframe tbody tr th {\n",
       "        vertical-align: top;\n",
       "    }\n",
       "</style>\n",
       "<table border=\"1\" class=\"dataframe\">\n",
       "  <thead>\n",
       "    <tr style=\"text-align: right;\">\n",
       "      <th></th>\n",
       "      <th>artical_subheader</th>\n",
       "      <th>article_header</th>\n",
       "      <th>authors</th>\n",
       "      <th>text</th>\n",
       "      <th>url</th>\n",
       "    </tr>\n",
       "  </thead>\n",
       "  <tbody>\n",
       "    <tr>\n",
       "      <th>0</th>\n",
       "      <td>NaN</td>\n",
       "      <td>«Свободная торговля — это хорошо?»</td>\n",
       "      <td>NaN</td>\n",
       "      <td>Неоднозначную ситуацию со столь ценимой истебл...</td>\n",
       "      <td>/doc/3594283</td>\n",
       "    </tr>\n",
       "    <tr>\n",
       "      <th>1</th>\n",
       "      <td>Кто победит в торговой войне США и Китая</td>\n",
       "      <td>Непримиримые торги</td>\n",
       "      <td>АЛЕКСАНДР ЗОТИН, старший научный сотрудник Все...</td>\n",
       "      <td>Месяц назад США фактически объявили торговую в...</td>\n",
       "      <td>/doc/3594170</td>\n",
       "    </tr>\n",
       "    <tr>\n",
       "      <th>2</th>\n",
       "      <td>Мониторинг капвложений</td>\n",
       "      <td>Прямые иностранные инвестиции снова утекают из РФ</td>\n",
       "      <td>Алексей Шаповалов</td>\n",
       "      <td>ЦБ опубликовал часть подробной статистики пото...</td>\n",
       "      <td>/doc/3598321</td>\n",
       "    </tr>\n",
       "    <tr>\n",
       "      <th>3</th>\n",
       "      <td>Проект о спасении страховщиков готов ко втором...</td>\n",
       "      <td>Санация как возмездие</td>\n",
       "      <td>Татьяна Гришина</td>\n",
       "      <td>Завтра Госдума рассмотрит во втором, основном ...</td>\n",
       "      <td>/doc/3598315</td>\n",
       "    </tr>\n",
       "    <tr>\n",
       "      <th>4</th>\n",
       "      <td>Вклад цифровизации в ВВП плохо отражается в ст...</td>\n",
       "      <td>Аршином цифру не измерить</td>\n",
       "      <td>Надежда Краснушкина</td>\n",
       "      <td>Массовое проникновение информационных технолог...</td>\n",
       "      <td>/doc/3598313</td>\n",
       "    </tr>\n",
       "  </tbody>\n",
       "</table>\n",
       "</div>"
      ],
      "text/plain": [
       "                                   artical_subheader  \\\n",
       "0                                                NaN   \n",
       "1           Кто победит в торговой войне США и Китая   \n",
       "2                             Мониторинг капвложений   \n",
       "3  Проект о спасении страховщиков готов ко втором...   \n",
       "4  Вклад цифровизации в ВВП плохо отражается в ст...   \n",
       "\n",
       "                                      article_header  \\\n",
       "0                 «Свободная торговля — это хорошо?»   \n",
       "1                                 Непримиримые торги   \n",
       "2  Прямые иностранные инвестиции снова утекают из РФ   \n",
       "3                              Санация как возмездие   \n",
       "4                          Аршином цифру не измерить   \n",
       "\n",
       "                                             authors  \\\n",
       "0                                                NaN   \n",
       "1  АЛЕКСАНДР ЗОТИН, старший научный сотрудник Все...   \n",
       "2                                  Алексей Шаповалов   \n",
       "3                                    Татьяна Гришина   \n",
       "4                                Надежда Краснушкина   \n",
       "\n",
       "                                                text           url  \n",
       "0  Неоднозначную ситуацию со столь ценимой истебл...  /doc/3594283  \n",
       "1  Месяц назад США фактически объявили торговую в...  /doc/3594170  \n",
       "2  ЦБ опубликовал часть подробной статистики пото...  /doc/3598321  \n",
       "3  Завтра Госдума рассмотрит во втором, основном ...  /doc/3598315  \n",
       "4  Массовое проникновение информационных технолог...  /doc/3598313  "
      ]
     },
     "execution_count": 58,
     "metadata": {},
     "output_type": "execute_result"
    }
   ],
   "source": [
    "print len(k_1)\n",
    "k_1.head()"
   ]
  },
  {
   "cell_type": "code",
   "execution_count": 3,
   "metadata": {
    "collapsed": true
   },
   "outputs": [],
   "source": [
    "f_1 = pd.read_excel('res_3.xlsx')\n",
    "f_2 = pd.concat([pd.read_excel('res_4_2016.xlsx'),\n",
    "                 pd.read_excel('res_4_2017.xlsx'),\n",
    "                 pd.read_excel('res_4_2018.xlsx')])\n",
    "\n",
    "f_3 = pd.concat([pd.read_excel('res_40_2016_2017.xlsx'),\n",
    "                 pd.read_excel('res_40_2018.xlsx')])\n",
    "\n",
    "k_2 = pd.concat([f_1, f_2, f_3])"
   ]
  },
  {
   "cell_type": "code",
   "execution_count": 59,
   "metadata": {},
   "outputs": [
    {
     "name": "stdout",
     "output_type": "stream",
     "text": [
      "17434\n"
     ]
    },
    {
     "data": {
      "text/html": [
       "<div>\n",
       "<style>\n",
       "    .dataframe thead tr:only-child th {\n",
       "        text-align: right;\n",
       "    }\n",
       "\n",
       "    .dataframe thead th {\n",
       "        text-align: left;\n",
       "    }\n",
       "\n",
       "    .dataframe tbody tr th {\n",
       "        vertical-align: top;\n",
       "    }\n",
       "</style>\n",
       "<table border=\"1\" class=\"dataframe\">\n",
       "  <thead>\n",
       "    <tr style=\"text-align: right;\">\n",
       "      <th></th>\n",
       "      <th>error</th>\n",
       "      <th>step</th>\n",
       "      <th>time</th>\n",
       "      <th>url</th>\n",
       "    </tr>\n",
       "  </thead>\n",
       "  <tbody>\n",
       "    <tr>\n",
       "      <th>0</th>\n",
       "      <td>NaN</td>\n",
       "      <td>2018-01-01</td>\n",
       "      <td>0.656</td>\n",
       "      <td>/doc/3512538</td>\n",
       "    </tr>\n",
       "    <tr>\n",
       "      <th>1</th>\n",
       "      <td>NaN</td>\n",
       "      <td>2018-01-01</td>\n",
       "      <td>0.660</td>\n",
       "      <td>/doc/3512325</td>\n",
       "    </tr>\n",
       "    <tr>\n",
       "      <th>2</th>\n",
       "      <td>NaN</td>\n",
       "      <td>2018-01-01</td>\n",
       "      <td>0.664</td>\n",
       "      <td>/doc/3512394</td>\n",
       "    </tr>\n",
       "    <tr>\n",
       "      <th>3</th>\n",
       "      <td>NaN</td>\n",
       "      <td>2018-01-01</td>\n",
       "      <td>0.668</td>\n",
       "      <td>/doc/3512393</td>\n",
       "    </tr>\n",
       "    <tr>\n",
       "      <th>4</th>\n",
       "      <td>NaN</td>\n",
       "      <td>2018-01-01</td>\n",
       "      <td>0.668</td>\n",
       "      <td>/doc/3511610</td>\n",
       "    </tr>\n",
       "  </tbody>\n",
       "</table>\n",
       "</div>"
      ],
      "text/plain": [
       "  error        step   time           url\n",
       "0   NaN  2018-01-01  0.656  /doc/3512538\n",
       "1   NaN  2018-01-01  0.660  /doc/3512325\n",
       "2   NaN  2018-01-01  0.664  /doc/3512394\n",
       "3   NaN  2018-01-01  0.668  /doc/3512393\n",
       "4   NaN  2018-01-01  0.668  /doc/3511610"
      ]
     },
     "execution_count": 59,
     "metadata": {},
     "output_type": "execute_result"
    }
   ],
   "source": [
    "print len(k_2)\n",
    "k_2.head()"
   ]
  },
  {
   "cell_type": "code",
   "execution_count": 13,
   "metadata": {
    "collapsed": true
   },
   "outputs": [],
   "source": [
    "k = k_1.merge(k_2, on = ['url'])"
   ]
  },
  {
   "cell_type": "code",
   "execution_count": 14,
   "metadata": {
    "collapsed": true
   },
   "outputs": [],
   "source": [
    "k = k.sort_values('time')\n",
    "k = k.drop_duplicates(['text'], keep = 'first')"
   ]
  },
  {
   "cell_type": "code",
   "execution_count": 64,
   "metadata": {},
   "outputs": [
    {
     "data": {
      "text/html": [
       "<div>\n",
       "<style>\n",
       "    .dataframe thead tr:only-child th {\n",
       "        text-align: right;\n",
       "    }\n",
       "\n",
       "    .dataframe thead th {\n",
       "        text-align: left;\n",
       "    }\n",
       "\n",
       "    .dataframe tbody tr th {\n",
       "        vertical-align: top;\n",
       "    }\n",
       "</style>\n",
       "<table border=\"1\" class=\"dataframe\">\n",
       "  <thead>\n",
       "    <tr style=\"text-align: right;\">\n",
       "      <th></th>\n",
       "      <th>artical_subheader</th>\n",
       "      <th>article_header</th>\n",
       "      <th>authors</th>\n",
       "      <th>text</th>\n",
       "      <th>url</th>\n",
       "      <th>error</th>\n",
       "      <th>step</th>\n",
       "      <th>time</th>\n",
       "    </tr>\n",
       "  </thead>\n",
       "  <tbody>\n",
       "    <tr>\n",
       "      <th>11975</th>\n",
       "      <td>Госкорпорация предлагает Ташкенту АЭС на 2,4 ГВт</td>\n",
       "      <td>«Росатом» готов строить в Узбекистане</td>\n",
       "      <td>Анатолий Джумайло</td>\n",
       "      <td>Смена власти в Узбекистане продолжает повышать...</td>\n",
       "      <td>/doc/3512717</td>\n",
       "      <td>NaN</td>\n",
       "      <td>2018-01-01</td>\n",
       "      <td>0.411</td>\n",
       "    </tr>\n",
       "    <tr>\n",
       "      <th>11995</th>\n",
       "      <td>Как рынку сигарет подбирали контролеров</td>\n",
       "      <td>Табачок врозь</td>\n",
       "      <td>Олег Трутнев</td>\n",
       "      <td>Рост теневого рынка сигарет в 2017 году обостр...</td>\n",
       "      <td>/doc/3512539</td>\n",
       "      <td>NaN</td>\n",
       "      <td>2018-01-01</td>\n",
       "      <td>0.415</td>\n",
       "    </tr>\n",
       "    <tr>\n",
       "      <th>11985</th>\n",
       "      <td>Как чиновники не оправдали ожидания автоконцернов</td>\n",
       "      <td>Рынок без руля</td>\n",
       "      <td>Яна Циноева</td>\n",
       "      <td>Надежды автопрома увидеть в 2017 году на фоне ...</td>\n",
       "      <td>/doc/3512540</td>\n",
       "      <td>NaN</td>\n",
       "      <td>2018-01-01</td>\n",
       "      <td>0.415</td>\n",
       "    </tr>\n",
       "    <tr>\n",
       "      <th>12015</th>\n",
       "      <td>Почему влияние Игоря Сечина продолжает расти</td>\n",
       "      <td>Лом как аргумент</td>\n",
       "      <td>Юрий Барсуков</td>\n",
       "      <td>В 2017 году глава «Роснефти» Игорь Сечин продо...</td>\n",
       "      <td>/doc/3511820</td>\n",
       "      <td>NaN</td>\n",
       "      <td>2018-01-01</td>\n",
       "      <td>0.419</td>\n",
       "    </tr>\n",
       "    <tr>\n",
       "      <th>12005</th>\n",
       "      <td>Худшие опасения по поводу ограничений в интерн...</td>\n",
       "      <td>Неприкрытый доступ</td>\n",
       "      <td>Роман Рожков</td>\n",
       "      <td>Уходящий 2017 год интернет-отрасль провела в т...</td>\n",
       "      <td>/doc/3512178</td>\n",
       "      <td>NaN</td>\n",
       "      <td>2018-01-01</td>\n",
       "      <td>0.419</td>\n",
       "    </tr>\n",
       "  </tbody>\n",
       "</table>\n",
       "</div>"
      ],
      "text/plain": [
       "                                       artical_subheader  \\\n",
       "11975   Госкорпорация предлагает Ташкенту АЭС на 2,4 ГВт   \n",
       "11995            Как рынку сигарет подбирали контролеров   \n",
       "11985  Как чиновники не оправдали ожидания автоконцернов   \n",
       "12015       Почему влияние Игоря Сечина продолжает расти   \n",
       "12005  Худшие опасения по поводу ограничений в интерн...   \n",
       "\n",
       "                              article_header            authors  \\\n",
       "11975  «Росатом» готов строить в Узбекистане  Анатолий Джумайло   \n",
       "11995                          Табачок врозь       Олег Трутнев   \n",
       "11985                         Рынок без руля        Яна Циноева   \n",
       "12015                       Лом как аргумент      Юрий Барсуков   \n",
       "12005                     Неприкрытый доступ       Роман Рожков   \n",
       "\n",
       "                                                    text           url error  \\\n",
       "11975  Смена власти в Узбекистане продолжает повышать...  /doc/3512717   NaN   \n",
       "11995  Рост теневого рынка сигарет в 2017 году обостр...  /doc/3512539   NaN   \n",
       "11985  Надежды автопрома увидеть в 2017 году на фоне ...  /doc/3512540   NaN   \n",
       "12015  В 2017 году глава «Роснефти» Игорь Сечин продо...  /doc/3511820   NaN   \n",
       "12005  Уходящий 2017 год интернет-отрасль провела в т...  /doc/3512178   NaN   \n",
       "\n",
       "             step   time  \n",
       "11975  2018-01-01  0.411  \n",
       "11995  2018-01-01  0.415  \n",
       "11985  2018-01-01  0.415  \n",
       "12015  2018-01-01  0.419  \n",
       "12005  2018-01-01  0.419  "
      ]
     },
     "execution_count": 64,
     "metadata": {},
     "output_type": "execute_result"
    }
   ],
   "source": [
    "k.head()"
   ]
  },
  {
   "cell_type": "code",
   "execution_count": 65,
   "metadata": {},
   "outputs": [
    {
     "name": "stdout",
     "output_type": "stream",
     "text": [
      "16594\n",
      "16594\n",
      "16594\n",
      "8511\n"
     ]
    }
   ],
   "source": [
    "print len(k)\n",
    "print len(k['text'].drop_duplicates())\n",
    "print len(k['url'].drop_duplicates())\n",
    "print len(k['time'].drop_duplicates())"
   ]
  },
  {
   "cell_type": "markdown",
   "metadata": {},
   "source": [
    "# Ведомости"
   ]
  },
  {
   "cell_type": "code",
   "execution_count": 4,
   "metadata": {
    "collapsed": true
   },
   "outputs": [],
   "source": [
    "v_1 = pd.read_excel('vedomosti_texts.xlsx')\n",
    "v_2 = pd.read_excel('vedomosti_url.xlsx')\n",
    "v_2['url'] = u'https://' + v_2['url']"
   ]
  },
  {
   "cell_type": "code",
   "execution_count": 10,
   "metadata": {},
   "outputs": [
    {
     "name": "stdout",
     "output_type": "stream",
     "text": [
      "2410\n"
     ]
    },
    {
     "data": {
      "text/html": [
       "<div>\n",
       "<style>\n",
       "    .dataframe thead tr:only-child th {\n",
       "        text-align: right;\n",
       "    }\n",
       "\n",
       "    .dataframe thead th {\n",
       "        text-align: left;\n",
       "    }\n",
       "\n",
       "    .dataframe tbody tr th {\n",
       "        vertical-align: top;\n",
       "    }\n",
       "</style>\n",
       "<table border=\"1\" class=\"dataframe\">\n",
       "  <thead>\n",
       "    <tr style=\"text-align: right;\">\n",
       "      <th></th>\n",
       "      <th>artical_subheader</th>\n",
       "      <th>article_header</th>\n",
       "      <th>error</th>\n",
       "      <th>text</th>\n",
       "      <th>url</th>\n",
       "    </tr>\n",
       "  </thead>\n",
       "  <tbody>\n",
       "    <tr>\n",
       "      <th>0</th>\n",
       "      <td>Им дадут возможность рассчитаться с контра...</td>\n",
       "      <td>Российским компаниям под санкциями позволя...</td>\n",
       "      <td>NaN</td>\n",
       "      <td>\\n    Бизнес почти дождался смягчения валютног...</td>\n",
       "      <td>https://vdmsti.ru/DPi</td>\n",
       "    </tr>\n",
       "    <tr>\n",
       "      <th>1</th>\n",
       "      <td>И возложил ответственность за его действия...</td>\n",
       "      <td>Кадыров подтвердил чеченское происхождение...</td>\n",
       "      <td>NaN</td>\n",
       "      <td>\\n    Глава Чечни Рамзан Кадыров подтвердил, ч...</td>\n",
       "      <td>https://www.vedomosti.ru/politics/articles/201...</td>\n",
       "    </tr>\n",
       "    <tr>\n",
       "      <th>2</th>\n",
       "      <td>По данным проекта «Белый счетч...</td>\n",
       "      <td>Митинг за свободный интернет н...</td>\n",
       "      <td>NaN</td>\n",
       "      <td>NaN</td>\n",
       "      <td>https://www.vedomosti.ru/politics/galleries/20...</td>\n",
       "    </tr>\n",
       "    <tr>\n",
       "      <th>3</th>\n",
       "      <td>NaN</td>\n",
       "      <td>NaN</td>\n",
       "      <td>NaN</td>\n",
       "      <td>NaN</td>\n",
       "      <td>https://www.vedomosti.ru/politics/news/2018/05...</td>\n",
       "    </tr>\n",
       "    <tr>\n",
       "      <th>4</th>\n",
       "      <td>Мессенджер продолжает работать в России</td>\n",
       "      <td>Роскомнадзор разблокировал закрытую при бл...</td>\n",
       "      <td>NaN</td>\n",
       "      <td>\\n    Роскомнадзор разблокировал около 8200 ip...</td>\n",
       "      <td>https://www.vedomosti.ru/technology/articles/2...</td>\n",
       "    </tr>\n",
       "  </tbody>\n",
       "</table>\n",
       "</div>"
      ],
      "text/plain": [
       "                                   artical_subheader  \\\n",
       "0      Им дадут возможность рассчитаться с контра...   \n",
       "1      И возложил ответственность за его действия...   \n",
       "2                  По данным проекта «Белый счетч...   \n",
       "3                                                NaN   \n",
       "4          Мессенджер продолжает работать в России     \n",
       "\n",
       "                                      article_header error  \\\n",
       "0      Российским компаниям под санкциями позволя...   NaN   \n",
       "1      Кадыров подтвердил чеченское происхождение...   NaN   \n",
       "2                  Митинг за свободный интернет н...   NaN   \n",
       "3                                                NaN   NaN   \n",
       "4      Роскомнадзор разблокировал закрытую при бл...   NaN   \n",
       "\n",
       "                                                text  \\\n",
       "0  \\n    Бизнес почти дождался смягчения валютног...   \n",
       "1  \\n    Глава Чечни Рамзан Кадыров подтвердил, ч...   \n",
       "2                                                NaN   \n",
       "3                                                NaN   \n",
       "4  \\n    Роскомнадзор разблокировал около 8200 ip...   \n",
       "\n",
       "                                                 url  \n",
       "0                              https://vdmsti.ru/DPi  \n",
       "1  https://www.vedomosti.ru/politics/articles/201...  \n",
       "2  https://www.vedomosti.ru/politics/galleries/20...  \n",
       "3  https://www.vedomosti.ru/politics/news/2018/05...  \n",
       "4  https://www.vedomosti.ru/technology/articles/2...  "
      ]
     },
     "execution_count": 10,
     "metadata": {},
     "output_type": "execute_result"
    }
   ],
   "source": [
    "print len(v_1)\n",
    "v_1.head()"
   ]
  },
  {
   "cell_type": "code",
   "execution_count": 11,
   "metadata": {},
   "outputs": [
    {
     "name": "stdout",
     "output_type": "stream",
     "text": [
      "2410\n"
     ]
    },
    {
     "data": {
      "text/html": [
       "<div>\n",
       "<style>\n",
       "    .dataframe thead tr:only-child th {\n",
       "        text-align: right;\n",
       "    }\n",
       "\n",
       "    .dataframe thead th {\n",
       "        text-align: left;\n",
       "    }\n",
       "\n",
       "    .dataframe tbody tr th {\n",
       "        vertical-align: top;\n",
       "    }\n",
       "</style>\n",
       "<table border=\"1\" class=\"dataframe\">\n",
       "  <thead>\n",
       "    <tr style=\"text-align: right;\">\n",
       "      <th></th>\n",
       "      <th>id</th>\n",
       "      <th>index</th>\n",
       "      <th>time</th>\n",
       "      <th>url</th>\n",
       "    </tr>\n",
       "  </thead>\n",
       "  <tbody>\n",
       "    <tr>\n",
       "      <th>0</th>\n",
       "      <td>2383</td>\n",
       "      <td>0</td>\n",
       "      <td>2018-05-13 19:21:11</td>\n",
       "      <td>https://vdmsti.ru/DPi</td>\n",
       "    </tr>\n",
       "    <tr>\n",
       "      <th>1</th>\n",
       "      <td>2381</td>\n",
       "      <td>2</td>\n",
       "      <td>2018-05-13 13:28:52</td>\n",
       "      <td>https://www.vedomosti.ru/politics/articles/201...</td>\n",
       "    </tr>\n",
       "    <tr>\n",
       "      <th>2</th>\n",
       "      <td>2380</td>\n",
       "      <td>3</td>\n",
       "      <td>2018-05-13 13:25:10</td>\n",
       "      <td>https://www.vedomosti.ru/politics/galleries/20...</td>\n",
       "    </tr>\n",
       "    <tr>\n",
       "      <th>3</th>\n",
       "      <td>2376</td>\n",
       "      <td>7</td>\n",
       "      <td>2018-05-13 12:54:58</td>\n",
       "      <td>https://www.vedomosti.ru/politics/news/2018/05...</td>\n",
       "    </tr>\n",
       "    <tr>\n",
       "      <th>4</th>\n",
       "      <td>2375</td>\n",
       "      <td>8</td>\n",
       "      <td>2018-05-13 11:16:26</td>\n",
       "      <td>https://www.vedomosti.ru/technology/articles/2...</td>\n",
       "    </tr>\n",
       "  </tbody>\n",
       "</table>\n",
       "</div>"
      ],
      "text/plain": [
       "     id  index                time  \\\n",
       "0  2383      0 2018-05-13 19:21:11   \n",
       "1  2381      2 2018-05-13 13:28:52   \n",
       "2  2380      3 2018-05-13 13:25:10   \n",
       "3  2376      7 2018-05-13 12:54:58   \n",
       "4  2375      8 2018-05-13 11:16:26   \n",
       "\n",
       "                                                 url  \n",
       "0                              https://vdmsti.ru/DPi  \n",
       "1  https://www.vedomosti.ru/politics/articles/201...  \n",
       "2  https://www.vedomosti.ru/politics/galleries/20...  \n",
       "3  https://www.vedomosti.ru/politics/news/2018/05...  \n",
       "4  https://www.vedomosti.ru/technology/articles/2...  "
      ]
     },
     "execution_count": 11,
     "metadata": {},
     "output_type": "execute_result"
    }
   ],
   "source": [
    "print len(v_2)\n",
    "v_2.head()"
   ]
  },
  {
   "cell_type": "code",
   "execution_count": 5,
   "metadata": {
    "collapsed": true
   },
   "outputs": [],
   "source": [
    "v = v_1.merge(v_2, on = ['url'])\n",
    "v = v.sort_values('time')"
   ]
  },
  {
   "cell_type": "code",
   "execution_count": 34,
   "metadata": {},
   "outputs": [
    {
     "data": {
      "text/html": [
       "<div>\n",
       "<style>\n",
       "    .dataframe thead tr:only-child th {\n",
       "        text-align: right;\n",
       "    }\n",
       "\n",
       "    .dataframe thead th {\n",
       "        text-align: left;\n",
       "    }\n",
       "\n",
       "    .dataframe tbody tr th {\n",
       "        vertical-align: top;\n",
       "    }\n",
       "</style>\n",
       "<table border=\"1\" class=\"dataframe\">\n",
       "  <thead>\n",
       "    <tr style=\"text-align: right;\">\n",
       "      <th></th>\n",
       "      <th>artical_subheader</th>\n",
       "      <th>article_header</th>\n",
       "      <th>error</th>\n",
       "      <th>text</th>\n",
       "      <th>url</th>\n",
       "      <th>id</th>\n",
       "      <th>index</th>\n",
       "      <th>time</th>\n",
       "    </tr>\n",
       "  </thead>\n",
       "  <tbody>\n",
       "    <tr>\n",
       "      <th>2650</th>\n",
       "      <td>На авиашоу в Чжухае впервые по...</td>\n",
       "      <td>Китайский авиасалон наступает ...</td>\n",
       "      <td>NaN</td>\n",
       "      <td>NaN</td>\n",
       "      <td>https://goo.gl/azaeQW</td>\n",
       "      <td>4</td>\n",
       "      <td>2320</td>\n",
       "      <td>2016-11-01 13:16:26</td>\n",
       "    </tr>\n",
       "    <tr>\n",
       "      <th>2643</th>\n",
       "      <td>Бояться в стране главному экономисту ЕБРР ...</td>\n",
       "      <td>Сергей Гуриев приедет в Москву впервые пос...</td>\n",
       "      <td>NaN</td>\n",
       "      <td>\\n    Бывший ректор Российской экономической ш...</td>\n",
       "      <td>https://goo.gl/HN3OKQ.</td>\n",
       "      <td>4</td>\n",
       "      <td>2320</td>\n",
       "      <td>2016-11-01 13:16:26</td>\n",
       "    </tr>\n",
       "    <tr>\n",
       "      <th>2644</th>\n",
       "      <td>Как изменится кабинет министро...</td>\n",
       "      <td>NaN</td>\n",
       "      <td>NaN</td>\n",
       "      <td>NaN</td>\n",
       "      <td>https://goo.gl/YzZECy</td>\n",
       "      <td>4</td>\n",
       "      <td>2320</td>\n",
       "      <td>2016-11-01 13:16:26</td>\n",
       "    </tr>\n",
       "    <tr>\n",
       "      <th>2645</th>\n",
       "      <td>Правда, сначала от прав на него должен отк...</td>\n",
       "      <td>«Роснефть» может получить дворец в Ропше у...</td>\n",
       "      <td>NaN</td>\n",
       "      <td>\\n    «Дворцово-парковый ансамбль \"Ропша\"» с з...</td>\n",
       "      <td>https://goo.gl/pXVnyU</td>\n",
       "      <td>4</td>\n",
       "      <td>2320</td>\n",
       "      <td>2016-11-01 13:16:26</td>\n",
       "    </tr>\n",
       "    <tr>\n",
       "      <th>2649</th>\n",
       "      <td>NaN</td>\n",
       "      <td>Беспилотный автомобиль очень о...</td>\n",
       "      <td>NaN</td>\n",
       "      <td>NaN</td>\n",
       "      <td>https://goo.gl/mklaIc</td>\n",
       "      <td>4</td>\n",
       "      <td>2320</td>\n",
       "      <td>2016-11-01 13:16:26</td>\n",
       "    </tr>\n",
       "  </tbody>\n",
       "</table>\n",
       "</div>"
      ],
      "text/plain": [
       "                                      artical_subheader  \\\n",
       "2650                  На авиашоу в Чжухае впервые по...   \n",
       "2643      Бояться в стране главному экономисту ЕБРР ...   \n",
       "2644                  Как изменится кабинет министро...   \n",
       "2645      Правда, сначала от прав на него должен отк...   \n",
       "2649                                                NaN   \n",
       "\n",
       "                                         article_header error  \\\n",
       "2650                  Китайский авиасалон наступает ...   NaN   \n",
       "2643      Сергей Гуриев приедет в Москву впервые пос...   NaN   \n",
       "2644                                                NaN   NaN   \n",
       "2645      «Роснефть» может получить дворец в Ропше у...   NaN   \n",
       "2649                  Беспилотный автомобиль очень о...   NaN   \n",
       "\n",
       "                                                   text  \\\n",
       "2650                                                NaN   \n",
       "2643  \\n    Бывший ректор Российской экономической ш...   \n",
       "2644                                                NaN   \n",
       "2645  \\n    «Дворцово-парковый ансамбль \"Ропша\"» с з...   \n",
       "2649                                                NaN   \n",
       "\n",
       "                         url  id  index                time  \n",
       "2650   https://goo.gl/azaeQW   4   2320 2016-11-01 13:16:26  \n",
       "2643  https://goo.gl/HN3OKQ.   4   2320 2016-11-01 13:16:26  \n",
       "2644   https://goo.gl/YzZECy   4   2320 2016-11-01 13:16:26  \n",
       "2645   https://goo.gl/pXVnyU   4   2320 2016-11-01 13:16:26  \n",
       "2649   https://goo.gl/mklaIc   4   2320 2016-11-01 13:16:26  "
      ]
     },
     "execution_count": 34,
     "metadata": {},
     "output_type": "execute_result"
    }
   ],
   "source": [
    "v.head()"
   ]
  },
  {
   "cell_type": "code",
   "execution_count": 36,
   "metadata": {
    "collapsed": true
   },
   "outputs": [],
   "source": [
    "v = v.drop_duplicates(['text'], keep = 'first')"
   ]
  },
  {
   "cell_type": "code",
   "execution_count": 39,
   "metadata": {},
   "outputs": [
    {
     "name": "stdout",
     "output_type": "stream",
     "text": [
      "1941\n",
      "1941\n",
      "1941\n",
      "735\n"
     ]
    }
   ],
   "source": [
    "print len(v)\n",
    "print len(v['text'].drop_duplicates())\n",
    "print len(v['url'].drop_duplicates())\n",
    "print len(v['time'].drop_duplicates())"
   ]
  },
  {
   "cell_type": "markdown",
   "metadata": {},
   "source": [
    "# РБК"
   ]
  },
  {
   "cell_type": "code",
   "execution_count": 6,
   "metadata": {
    "collapsed": true
   },
   "outputs": [],
   "source": [
    "r_1 = pd.read_excel('rbc_texts.xlsx')\n",
    "r_2 = pd.read_excel('rbc_url.xlsx')\n",
    "r_2['url'] = u'https://' + r_2['url']"
   ]
  },
  {
   "cell_type": "code",
   "execution_count": 7,
   "metadata": {
    "collapsed": true
   },
   "outputs": [],
   "source": [
    "r = r_1.merge(r_2, on = ['url'])\n",
    "r = r.sort_values('time')"
   ]
  },
  {
   "cell_type": "code",
   "execution_count": 8,
   "metadata": {
    "collapsed": true
   },
   "outputs": [],
   "source": [
    "r = r.drop_duplicates(['text'], keep = 'first')"
   ]
  },
  {
   "cell_type": "code",
   "execution_count": 70,
   "metadata": {},
   "outputs": [
    {
     "name": "stdout",
     "output_type": "stream",
     "text": [
      "1396\n",
      "1396\n",
      "1396\n",
      "747\n"
     ]
    }
   ],
   "source": [
    "print len(r)\n",
    "print len(r['text'].drop_duplicates())\n",
    "print len(r['url'].drop_duplicates())\n",
    "print len(r['time'].drop_duplicates())"
   ]
  },
  {
   "cell_type": "markdown",
   "metadata": {},
   "source": [
    "# Total"
   ]
  },
  {
   "cell_type": "code",
   "execution_count": null,
   "metadata": {
    "collapsed": true
   },
   "outputs": [],
   "source": []
  },
  {
   "cell_type": "code",
   "execution_count": 9,
   "metadata": {},
   "outputs": [
    {
     "name": "stdout",
     "output_type": "stream",
     "text": [
      "2651\n"
     ]
    },
    {
     "data": {
      "text/html": [
       "<div>\n",
       "<style>\n",
       "    .dataframe thead tr:only-child th {\n",
       "        text-align: right;\n",
       "    }\n",
       "\n",
       "    .dataframe thead th {\n",
       "        text-align: left;\n",
       "    }\n",
       "\n",
       "    .dataframe tbody tr th {\n",
       "        vertical-align: top;\n",
       "    }\n",
       "</style>\n",
       "<table border=\"1\" class=\"dataframe\">\n",
       "  <thead>\n",
       "    <tr style=\"text-align: right;\">\n",
       "      <th></th>\n",
       "      <th>artical_subheader</th>\n",
       "      <th>article_header</th>\n",
       "      <th>error</th>\n",
       "      <th>text</th>\n",
       "      <th>url</th>\n",
       "      <th>id</th>\n",
       "      <th>index</th>\n",
       "      <th>time</th>\n",
       "      <th>source</th>\n",
       "    </tr>\n",
       "  </thead>\n",
       "  <tbody>\n",
       "    <tr>\n",
       "      <th>2650</th>\n",
       "      <td>На авиашоу в Чжухае впервые по...</td>\n",
       "      <td>Китайский авиасалон наступает ...</td>\n",
       "      <td>NaN</td>\n",
       "      <td>NaN</td>\n",
       "      <td>https://goo.gl/azaeQW</td>\n",
       "      <td>4</td>\n",
       "      <td>2320</td>\n",
       "      <td>2016-11-01 13:16:26</td>\n",
       "      <td>v</td>\n",
       "    </tr>\n",
       "    <tr>\n",
       "      <th>2643</th>\n",
       "      <td>Бояться в стране главному экономисту ЕБРР ...</td>\n",
       "      <td>Сергей Гуриев приедет в Москву впервые пос...</td>\n",
       "      <td>NaN</td>\n",
       "      <td>\\n    Бывший ректор Российской экономической ш...</td>\n",
       "      <td>https://goo.gl/HN3OKQ.</td>\n",
       "      <td>4</td>\n",
       "      <td>2320</td>\n",
       "      <td>2016-11-01 13:16:26</td>\n",
       "      <td>v</td>\n",
       "    </tr>\n",
       "    <tr>\n",
       "      <th>2644</th>\n",
       "      <td>Как изменится кабинет министро...</td>\n",
       "      <td>NaN</td>\n",
       "      <td>NaN</td>\n",
       "      <td>NaN</td>\n",
       "      <td>https://goo.gl/YzZECy</td>\n",
       "      <td>4</td>\n",
       "      <td>2320</td>\n",
       "      <td>2016-11-01 13:16:26</td>\n",
       "      <td>v</td>\n",
       "    </tr>\n",
       "    <tr>\n",
       "      <th>2645</th>\n",
       "      <td>Правда, сначала от прав на него должен отк...</td>\n",
       "      <td>«Роснефть» может получить дворец в Ропше у...</td>\n",
       "      <td>NaN</td>\n",
       "      <td>\\n    «Дворцово-парковый ансамбль \"Ропша\"» с з...</td>\n",
       "      <td>https://goo.gl/pXVnyU</td>\n",
       "      <td>4</td>\n",
       "      <td>2320</td>\n",
       "      <td>2016-11-01 13:16:26</td>\n",
       "      <td>v</td>\n",
       "    </tr>\n",
       "    <tr>\n",
       "      <th>2649</th>\n",
       "      <td>NaN</td>\n",
       "      <td>Беспилотный автомобиль очень о...</td>\n",
       "      <td>NaN</td>\n",
       "      <td>NaN</td>\n",
       "      <td>https://goo.gl/mklaIc</td>\n",
       "      <td>4</td>\n",
       "      <td>2320</td>\n",
       "      <td>2016-11-01 13:16:26</td>\n",
       "      <td>v</td>\n",
       "    </tr>\n",
       "  </tbody>\n",
       "</table>\n",
       "</div>"
      ],
      "text/plain": [
       "                                      artical_subheader  \\\n",
       "2650                  На авиашоу в Чжухае впервые по...   \n",
       "2643      Бояться в стране главному экономисту ЕБРР ...   \n",
       "2644                  Как изменится кабинет министро...   \n",
       "2645      Правда, сначала от прав на него должен отк...   \n",
       "2649                                                NaN   \n",
       "\n",
       "                                         article_header error  \\\n",
       "2650                  Китайский авиасалон наступает ...   NaN   \n",
       "2643      Сергей Гуриев приедет в Москву впервые пос...   NaN   \n",
       "2644                                                NaN   NaN   \n",
       "2645      «Роснефть» может получить дворец в Ропше у...   NaN   \n",
       "2649                  Беспилотный автомобиль очень о...   NaN   \n",
       "\n",
       "                                                   text  \\\n",
       "2650                                                NaN   \n",
       "2643  \\n    Бывший ректор Российской экономической ш...   \n",
       "2644                                                NaN   \n",
       "2645  \\n    «Дворцово-парковый ансамбль \"Ропша\"» с з...   \n",
       "2649                                                NaN   \n",
       "\n",
       "                         url  id  index                time source  \n",
       "2650   https://goo.gl/azaeQW   4   2320 2016-11-01 13:16:26      v  \n",
       "2643  https://goo.gl/HN3OKQ.   4   2320 2016-11-01 13:16:26      v  \n",
       "2644   https://goo.gl/YzZECy   4   2320 2016-11-01 13:16:26      v  \n",
       "2645   https://goo.gl/pXVnyU   4   2320 2016-11-01 13:16:26      v  \n",
       "2649   https://goo.gl/mklaIc   4   2320 2016-11-01 13:16:26      v  "
      ]
     },
     "execution_count": 9,
     "metadata": {},
     "output_type": "execute_result"
    }
   ],
   "source": [
    "v['source'] = 'v'\n",
    "print len(v)\n",
    "v.head()"
   ]
  },
  {
   "cell_type": "code",
   "execution_count": 10,
   "metadata": {},
   "outputs": [
    {
     "name": "stdout",
     "output_type": "stream",
     "text": [
      "1396\n"
     ]
    },
    {
     "data": {
      "text/html": [
       "<div>\n",
       "<style>\n",
       "    .dataframe thead tr:only-child th {\n",
       "        text-align: right;\n",
       "    }\n",
       "\n",
       "    .dataframe thead th {\n",
       "        text-align: left;\n",
       "    }\n",
       "\n",
       "    .dataframe tbody tr th {\n",
       "        vertical-align: top;\n",
       "    }\n",
       "</style>\n",
       "<table border=\"1\" class=\"dataframe\">\n",
       "  <thead>\n",
       "    <tr style=\"text-align: right;\">\n",
       "      <th></th>\n",
       "      <th>artical_subheader</th>\n",
       "      <th>article_header</th>\n",
       "      <th>category</th>\n",
       "      <th>date</th>\n",
       "      <th>error</th>\n",
       "      <th>text</th>\n",
       "      <th>url</th>\n",
       "      <th>id</th>\n",
       "      <th>index</th>\n",
       "      <th>time</th>\n",
       "      <th>source</th>\n",
       "    </tr>\n",
       "  </thead>\n",
       "  <tbody>\n",
       "    <tr>\n",
       "      <th>1630</th>\n",
       "      <td>Епископ Егорьевский Тихон (Шевкунов) возглавил...</td>\n",
       "      <td>На избирательном участке в Тольятти произошла ...</td>\n",
       "      <td>NaN</td>\n",
       "      <td>18 сен 2016, 19:44</td>\n",
       "      <td>NaN</td>\n",
       "      <td>Полиции на одном из избирательных участков в Т...</td>\n",
       "      <td>https://vk.cc/5Cv1pk</td>\n",
       "      <td>14</td>\n",
       "      <td>1012</td>\n",
       "      <td>2016-09-18 22:45:11</td>\n",
       "      <td>r</td>\n",
       "    </tr>\n",
       "    <tr>\n",
       "      <th>1614</th>\n",
       "      <td>NaN</td>\n",
       "      <td>NaN</td>\n",
       "      <td>NaN</td>\n",
       "      <td>NaN</td>\n",
       "      <td>NaN</td>\n",
       "      <td>NaN</td>\n",
       "      <td>https://vk.cc/5CtWZC</td>\n",
       "      <td>14</td>\n",
       "      <td>1012</td>\n",
       "      <td>2016-09-18 22:45:11</td>\n",
       "      <td>r</td>\n",
       "    </tr>\n",
       "    <tr>\n",
       "      <th>1615</th>\n",
       "      <td>В Думу седьмого созыва по партийным спискам пр...</td>\n",
       "      <td>Опубликованы данные экзитполов на выборах в Го...</td>\n",
       "      <td>Политика,</td>\n",
       "      <td>18 сен 2016, 21:01</td>\n",
       "      <td>NaN</td>\n",
       "      <td>В 21:00 закрылись избирательные участки в само...</td>\n",
       "      <td>https://vk.cc/5CtWlM</td>\n",
       "      <td>14</td>\n",
       "      <td>1012</td>\n",
       "      <td>2016-09-18 22:45:11</td>\n",
       "      <td>r</td>\n",
       "    </tr>\n",
       "    <tr>\n",
       "      <th>1616</th>\n",
       "      <td>Избиратели Москвы и Санкт-Петербурга почти про...</td>\n",
       "      <td>На выборах в Москве и Петербурге зафиксировали...</td>\n",
       "      <td>NaN</td>\n",
       "      <td>18 сен 2016, 19:51</td>\n",
       "      <td>NaN</td>\n",
       "      <td>Москва, Санкт-Петербург и Московская область —...</td>\n",
       "      <td>https://vk.cc/5Cu3hZ</td>\n",
       "      <td>14</td>\n",
       "      <td>1012</td>\n",
       "      <td>2016-09-18 22:45:11</td>\n",
       "      <td>r</td>\n",
       "    </tr>\n",
       "    <tr>\n",
       "      <th>1617</th>\n",
       "      <td>Владимир Путин и Дмитрий Медведев оценили резу...</td>\n",
       "      <td>Путин и Медведев заявили о победе «Единой Росс...</td>\n",
       "      <td>NaN</td>\n",
       "      <td>18 сен 2016, 21:24</td>\n",
       "      <td>NaN</td>\n",
       "      <td>Президент Владимир Путин и премьер Дмитрий Мед...</td>\n",
       "      <td>https://vk.cc/5CufCC</td>\n",
       "      <td>14</td>\n",
       "      <td>1012</td>\n",
       "      <td>2016-09-18 22:45:11</td>\n",
       "      <td>r</td>\n",
       "    </tr>\n",
       "  </tbody>\n",
       "</table>\n",
       "</div>"
      ],
      "text/plain": [
       "                                      artical_subheader  \\\n",
       "1630  Епископ Егорьевский Тихон (Шевкунов) возглавил...   \n",
       "1614                                                NaN   \n",
       "1615  В Думу седьмого созыва по партийным спискам пр...   \n",
       "1616  Избиратели Москвы и Санкт-Петербурга почти про...   \n",
       "1617  Владимир Путин и Дмитрий Медведев оценили резу...   \n",
       "\n",
       "                                         article_header    category  \\\n",
       "1630  На избирательном участке в Тольятти произошла ...         NaN   \n",
       "1614                                                NaN         NaN   \n",
       "1615  Опубликованы данные экзитполов на выборах в Го...  Политика,    \n",
       "1616  На выборах в Москве и Петербурге зафиксировали...         NaN   \n",
       "1617  Путин и Медведев заявили о победе «Единой Росс...         NaN   \n",
       "\n",
       "                    date error  \\\n",
       "1630  18 сен 2016, 19:44   NaN   \n",
       "1614                 NaN   NaN   \n",
       "1615  18 сен 2016, 21:01   NaN   \n",
       "1616  18 сен 2016, 19:51   NaN   \n",
       "1617  18 сен 2016, 21:24   NaN   \n",
       "\n",
       "                                                   text                   url  \\\n",
       "1630  Полиции на одном из избирательных участков в Т...  https://vk.cc/5Cv1pk   \n",
       "1614                                                NaN  https://vk.cc/5CtWZC   \n",
       "1615  В 21:00 закрылись избирательные участки в само...  https://vk.cc/5CtWlM   \n",
       "1616  Москва, Санкт-Петербург и Московская область —...  https://vk.cc/5Cu3hZ   \n",
       "1617  Президент Владимир Путин и премьер Дмитрий Мед...  https://vk.cc/5CufCC   \n",
       "\n",
       "      id  index                time source  \n",
       "1630  14   1012 2016-09-18 22:45:11      r  \n",
       "1614  14   1012 2016-09-18 22:45:11      r  \n",
       "1615  14   1012 2016-09-18 22:45:11      r  \n",
       "1616  14   1012 2016-09-18 22:45:11      r  \n",
       "1617  14   1012 2016-09-18 22:45:11      r  "
      ]
     },
     "execution_count": 10,
     "metadata": {},
     "output_type": "execute_result"
    }
   ],
   "source": [
    "r['source'] = 'r'\n",
    "print len(r)\n",
    "r.head()"
   ]
  },
  {
   "cell_type": "code",
   "execution_count": 45,
   "metadata": {},
   "outputs": [
    {
     "name": "stdout",
     "output_type": "stream",
     "text": [
      "16594\n"
     ]
    },
    {
     "data": {
      "text/html": [
       "<div>\n",
       "<style>\n",
       "    .dataframe thead tr:only-child th {\n",
       "        text-align: right;\n",
       "    }\n",
       "\n",
       "    .dataframe thead th {\n",
       "        text-align: left;\n",
       "    }\n",
       "\n",
       "    .dataframe tbody tr th {\n",
       "        vertical-align: top;\n",
       "    }\n",
       "</style>\n",
       "<table border=\"1\" class=\"dataframe\">\n",
       "  <thead>\n",
       "    <tr style=\"text-align: right;\">\n",
       "      <th></th>\n",
       "      <th>artical_subheader</th>\n",
       "      <th>article_header</th>\n",
       "      <th>authors</th>\n",
       "      <th>text</th>\n",
       "      <th>url</th>\n",
       "      <th>error</th>\n",
       "      <th>time</th>\n",
       "      <th>source</th>\n",
       "    </tr>\n",
       "  </thead>\n",
       "  <tbody>\n",
       "    <tr>\n",
       "      <th>11975</th>\n",
       "      <td>Госкорпорация предлагает Ташкенту АЭС на 2,4 ГВт</td>\n",
       "      <td>«Росатом» готов строить в Узбекистане</td>\n",
       "      <td>Анатолий Джумайло</td>\n",
       "      <td>Смена власти в Узбекистане продолжает повышать...</td>\n",
       "      <td>/doc/3512717</td>\n",
       "      <td>NaN</td>\n",
       "      <td>2018-01-01</td>\n",
       "      <td>k</td>\n",
       "    </tr>\n",
       "    <tr>\n",
       "      <th>11995</th>\n",
       "      <td>Как рынку сигарет подбирали контролеров</td>\n",
       "      <td>Табачок врозь</td>\n",
       "      <td>Олег Трутнев</td>\n",
       "      <td>Рост теневого рынка сигарет в 2017 году обостр...</td>\n",
       "      <td>/doc/3512539</td>\n",
       "      <td>NaN</td>\n",
       "      <td>2018-01-01</td>\n",
       "      <td>k</td>\n",
       "    </tr>\n",
       "    <tr>\n",
       "      <th>11985</th>\n",
       "      <td>Как чиновники не оправдали ожидания автоконцернов</td>\n",
       "      <td>Рынок без руля</td>\n",
       "      <td>Яна Циноева</td>\n",
       "      <td>Надежды автопрома увидеть в 2017 году на фоне ...</td>\n",
       "      <td>/doc/3512540</td>\n",
       "      <td>NaN</td>\n",
       "      <td>2018-01-01</td>\n",
       "      <td>k</td>\n",
       "    </tr>\n",
       "    <tr>\n",
       "      <th>12015</th>\n",
       "      <td>Почему влияние Игоря Сечина продолжает расти</td>\n",
       "      <td>Лом как аргумент</td>\n",
       "      <td>Юрий Барсуков</td>\n",
       "      <td>В 2017 году глава «Роснефти» Игорь Сечин продо...</td>\n",
       "      <td>/doc/3511820</td>\n",
       "      <td>NaN</td>\n",
       "      <td>2018-01-01</td>\n",
       "      <td>k</td>\n",
       "    </tr>\n",
       "    <tr>\n",
       "      <th>12005</th>\n",
       "      <td>Худшие опасения по поводу ограничений в интерн...</td>\n",
       "      <td>Неприкрытый доступ</td>\n",
       "      <td>Роман Рожков</td>\n",
       "      <td>Уходящий 2017 год интернет-отрасль провела в т...</td>\n",
       "      <td>/doc/3512178</td>\n",
       "      <td>NaN</td>\n",
       "      <td>2018-01-01</td>\n",
       "      <td>k</td>\n",
       "    </tr>\n",
       "  </tbody>\n",
       "</table>\n",
       "</div>"
      ],
      "text/plain": [
       "                                       artical_subheader  \\\n",
       "11975   Госкорпорация предлагает Ташкенту АЭС на 2,4 ГВт   \n",
       "11995            Как рынку сигарет подбирали контролеров   \n",
       "11985  Как чиновники не оправдали ожидания автоконцернов   \n",
       "12015       Почему влияние Игоря Сечина продолжает расти   \n",
       "12005  Худшие опасения по поводу ограничений в интерн...   \n",
       "\n",
       "                              article_header            authors  \\\n",
       "11975  «Росатом» готов строить в Узбекистане  Анатолий Джумайло   \n",
       "11995                          Табачок врозь       Олег Трутнев   \n",
       "11985                         Рынок без руля        Яна Циноева   \n",
       "12015                       Лом как аргумент      Юрий Барсуков   \n",
       "12005                     Неприкрытый доступ       Роман Рожков   \n",
       "\n",
       "                                                    text           url error  \\\n",
       "11975  Смена власти в Узбекистане продолжает повышать...  /doc/3512717   NaN   \n",
       "11995  Рост теневого рынка сигарет в 2017 году обостр...  /doc/3512539   NaN   \n",
       "11985  Надежды автопрома увидеть в 2017 году на фоне ...  /doc/3512540   NaN   \n",
       "12015  В 2017 году глава «Роснефти» Игорь Сечин продо...  /doc/3511820   NaN   \n",
       "12005  Уходящий 2017 год интернет-отрасль провела в т...  /doc/3512178   NaN   \n",
       "\n",
       "             time source  \n",
       "11975  2018-01-01      k  \n",
       "11995  2018-01-01      k  \n",
       "11985  2018-01-01      k  \n",
       "12015  2018-01-01      k  \n",
       "12005  2018-01-01      k  "
      ]
     },
     "execution_count": 45,
     "metadata": {},
     "output_type": "execute_result"
    }
   ],
   "source": [
    "k['source'] = 'k'\n",
    "del k['time']\n",
    "k = k.rename(columns = {'step':\"time\"})\n",
    "k['time'] = pd.to_datetime(k['time'], format = '%Y-%m-%d')\n",
    "print len(k)\n",
    "k.head()"
   ]
  },
  {
   "cell_type": "code",
   "execution_count": 55,
   "metadata": {
    "collapsed": true
   },
   "outputs": [],
   "source": [
    "t = pd.concat([v,k,r])"
   ]
  },
  {
   "cell_type": "code",
   "execution_count": 56,
   "metadata": {},
   "outputs": [
    {
     "name": "stdout",
     "output_type": "stream",
     "text": [
      "20641\n"
     ]
    },
    {
     "data": {
      "text/html": [
       "<div>\n",
       "<style>\n",
       "    .dataframe thead tr:only-child th {\n",
       "        text-align: right;\n",
       "    }\n",
       "\n",
       "    .dataframe thead th {\n",
       "        text-align: left;\n",
       "    }\n",
       "\n",
       "    .dataframe tbody tr th {\n",
       "        vertical-align: top;\n",
       "    }\n",
       "</style>\n",
       "<table border=\"1\" class=\"dataframe\">\n",
       "  <thead>\n",
       "    <tr style=\"text-align: right;\">\n",
       "      <th></th>\n",
       "      <th>artical_subheader</th>\n",
       "      <th>article_header</th>\n",
       "      <th>authors</th>\n",
       "      <th>category</th>\n",
       "      <th>date</th>\n",
       "      <th>error</th>\n",
       "      <th>id</th>\n",
       "      <th>index</th>\n",
       "      <th>source</th>\n",
       "      <th>text</th>\n",
       "      <th>time</th>\n",
       "      <th>url</th>\n",
       "    </tr>\n",
       "  </thead>\n",
       "  <tbody>\n",
       "    <tr>\n",
       "      <th>2650</th>\n",
       "      <td>На авиашоу в Чжухае впервые по...</td>\n",
       "      <td>Китайский авиасалон наступает ...</td>\n",
       "      <td>NaN</td>\n",
       "      <td>NaN</td>\n",
       "      <td>NaN</td>\n",
       "      <td>NaN</td>\n",
       "      <td>4.0</td>\n",
       "      <td>2320.0</td>\n",
       "      <td>v</td>\n",
       "      <td>NaN</td>\n",
       "      <td>2016-11-01 13:16:26</td>\n",
       "      <td>https://goo.gl/azaeQW</td>\n",
       "    </tr>\n",
       "    <tr>\n",
       "      <th>2643</th>\n",
       "      <td>Бояться в стране главному экономисту ЕБРР ...</td>\n",
       "      <td>Сергей Гуриев приедет в Москву впервые пос...</td>\n",
       "      <td>NaN</td>\n",
       "      <td>NaN</td>\n",
       "      <td>NaN</td>\n",
       "      <td>NaN</td>\n",
       "      <td>4.0</td>\n",
       "      <td>2320.0</td>\n",
       "      <td>v</td>\n",
       "      <td>\\n    Бывший ректор Российской экономической ш...</td>\n",
       "      <td>2016-11-01 13:16:26</td>\n",
       "      <td>https://goo.gl/HN3OKQ.</td>\n",
       "    </tr>\n",
       "    <tr>\n",
       "      <th>2644</th>\n",
       "      <td>Как изменится кабинет министро...</td>\n",
       "      <td>NaN</td>\n",
       "      <td>NaN</td>\n",
       "      <td>NaN</td>\n",
       "      <td>NaN</td>\n",
       "      <td>NaN</td>\n",
       "      <td>4.0</td>\n",
       "      <td>2320.0</td>\n",
       "      <td>v</td>\n",
       "      <td>NaN</td>\n",
       "      <td>2016-11-01 13:16:26</td>\n",
       "      <td>https://goo.gl/YzZECy</td>\n",
       "    </tr>\n",
       "    <tr>\n",
       "      <th>2645</th>\n",
       "      <td>Правда, сначала от прав на него должен отк...</td>\n",
       "      <td>«Роснефть» может получить дворец в Ропше у...</td>\n",
       "      <td>NaN</td>\n",
       "      <td>NaN</td>\n",
       "      <td>NaN</td>\n",
       "      <td>NaN</td>\n",
       "      <td>4.0</td>\n",
       "      <td>2320.0</td>\n",
       "      <td>v</td>\n",
       "      <td>\\n    «Дворцово-парковый ансамбль \"Ропша\"» с з...</td>\n",
       "      <td>2016-11-01 13:16:26</td>\n",
       "      <td>https://goo.gl/pXVnyU</td>\n",
       "    </tr>\n",
       "    <tr>\n",
       "      <th>2649</th>\n",
       "      <td>NaN</td>\n",
       "      <td>Беспилотный автомобиль очень о...</td>\n",
       "      <td>NaN</td>\n",
       "      <td>NaN</td>\n",
       "      <td>NaN</td>\n",
       "      <td>NaN</td>\n",
       "      <td>4.0</td>\n",
       "      <td>2320.0</td>\n",
       "      <td>v</td>\n",
       "      <td>NaN</td>\n",
       "      <td>2016-11-01 13:16:26</td>\n",
       "      <td>https://goo.gl/mklaIc</td>\n",
       "    </tr>\n",
       "  </tbody>\n",
       "</table>\n",
       "</div>"
      ],
      "text/plain": [
       "                                      artical_subheader  \\\n",
       "2650                  На авиашоу в Чжухае впервые по...   \n",
       "2643      Бояться в стране главному экономисту ЕБРР ...   \n",
       "2644                  Как изменится кабинет министро...   \n",
       "2645      Правда, сначала от прав на него должен отк...   \n",
       "2649                                                NaN   \n",
       "\n",
       "                                         article_header authors category date  \\\n",
       "2650                  Китайский авиасалон наступает ...     NaN      NaN  NaN   \n",
       "2643      Сергей Гуриев приедет в Москву впервые пос...     NaN      NaN  NaN   \n",
       "2644                                                NaN     NaN      NaN  NaN   \n",
       "2645      «Роснефть» может получить дворец в Ропше у...     NaN      NaN  NaN   \n",
       "2649                  Беспилотный автомобиль очень о...     NaN      NaN  NaN   \n",
       "\n",
       "     error   id   index source  \\\n",
       "2650   NaN  4.0  2320.0      v   \n",
       "2643   NaN  4.0  2320.0      v   \n",
       "2644   NaN  4.0  2320.0      v   \n",
       "2645   NaN  4.0  2320.0      v   \n",
       "2649   NaN  4.0  2320.0      v   \n",
       "\n",
       "                                                   text                time  \\\n",
       "2650                                                NaN 2016-11-01 13:16:26   \n",
       "2643  \\n    Бывший ректор Российской экономической ш... 2016-11-01 13:16:26   \n",
       "2644                                                NaN 2016-11-01 13:16:26   \n",
       "2645  \\n    «Дворцово-парковый ансамбль \"Ропша\"» с з... 2016-11-01 13:16:26   \n",
       "2649                                                NaN 2016-11-01 13:16:26   \n",
       "\n",
       "                         url  \n",
       "2650   https://goo.gl/azaeQW  \n",
       "2643  https://goo.gl/HN3OKQ.  \n",
       "2644   https://goo.gl/YzZECy  \n",
       "2645   https://goo.gl/pXVnyU  \n",
       "2649   https://goo.gl/mklaIc  "
      ]
     },
     "execution_count": 56,
     "metadata": {},
     "output_type": "execute_result"
    }
   ],
   "source": [
    "print len(t)\n",
    "t.head()"
   ]
  },
  {
   "cell_type": "code",
   "execution_count": 59,
   "metadata": {
    "collapsed": true
   },
   "outputs": [],
   "source": [
    "t = t.sort_values(['time']).drop_duplicates(['text'])"
   ]
  },
  {
   "cell_type": "code",
   "execution_count": 67,
   "metadata": {},
   "outputs": [
    {
     "name": "stdout",
     "output_type": "stream",
     "text": [
      "19929\n",
      "19929\n",
      "19929\n",
      "2307\n"
     ]
    }
   ],
   "source": [
    "print len(t)\n",
    "print len(t['text'].drop_duplicates())\n",
    "print len(t['url'].drop_duplicates())\n",
    "print len(t['time'].drop_duplicates())"
   ]
  },
  {
   "cell_type": "code",
   "execution_count": 68,
   "metadata": {},
   "outputs": [
    {
     "name": "stdout",
     "output_type": "stream",
     "text": [
      "19929\n",
      "19929\n",
      "19929\n"
     ]
    }
   ],
   "source": [
    "print len(t['text'].dropna())\n",
    "print len(t['url'].dropna())\n",
    "print len(t.dropna(subset = ['text']).drop_duplicates())"
   ]
  },
  {
   "cell_type": "code",
   "execution_count": 66,
   "metadata": {
    "collapsed": true
   },
   "outputs": [],
   "source": [
    "t = t.dropna(subset = ['text'])"
   ]
  },
  {
   "cell_type": "code",
   "execution_count": 69,
   "metadata": {},
   "outputs": [
    {
     "data": {
      "text/html": [
       "<div>\n",
       "<style>\n",
       "    .dataframe thead tr:only-child th {\n",
       "        text-align: right;\n",
       "    }\n",
       "\n",
       "    .dataframe thead th {\n",
       "        text-align: left;\n",
       "    }\n",
       "\n",
       "    .dataframe tbody tr th {\n",
       "        vertical-align: top;\n",
       "    }\n",
       "</style>\n",
       "<table border=\"1\" class=\"dataframe\">\n",
       "  <thead>\n",
       "    <tr style=\"text-align: right;\">\n",
       "      <th></th>\n",
       "      <th>artical_subheader</th>\n",
       "      <th>article_header</th>\n",
       "      <th>authors</th>\n",
       "      <th>category</th>\n",
       "      <th>date</th>\n",
       "      <th>error</th>\n",
       "      <th>id</th>\n",
       "      <th>index</th>\n",
       "      <th>source</th>\n",
       "      <th>text</th>\n",
       "      <th>time</th>\n",
       "      <th>url</th>\n",
       "    </tr>\n",
       "  </thead>\n",
       "  <tbody>\n",
       "    <tr>\n",
       "      <th>4291</th>\n",
       "      <td>Крым поставил в украинский Геническ 14 тысяч к...</td>\n",
       "      <td>«Они нам не чужие»</td>\n",
       "      <td>Дарья Тихончук</td>\n",
       "      <td>NaN</td>\n",
       "      <td>NaN</td>\n",
       "      <td>NaN</td>\n",
       "      <td>NaN</td>\n",
       "      <td>NaN</td>\n",
       "      <td>k</td>\n",
       "      <td>Крым уже поставил около 14 тыс. кубометров газ...</td>\n",
       "      <td>2016-01-05</td>\n",
       "      <td>/doc/2888618</td>\n",
       "    </tr>\n",
       "    <tr>\n",
       "      <th>4290</th>\n",
       "      <td>Туркомпании могут получить 2,765 млрд рублей с...</td>\n",
       "      <td>Правительство поддержит операторов внутреннего...</td>\n",
       "      <td>Дарья Тихончук</td>\n",
       "      <td>NaN</td>\n",
       "      <td>NaN</td>\n",
       "      <td>NaN</td>\n",
       "      <td>NaN</td>\n",
       "      <td>NaN</td>\n",
       "      <td>k</td>\n",
       "      <td>Премьер-министр РФ Дмитрий Медведев заявил, чт...</td>\n",
       "      <td>2016-01-05</td>\n",
       "      <td>/doc/2888728</td>\n",
       "    </tr>\n",
       "    <tr>\n",
       "      <th>13502</th>\n",
       "      <td>Стоимость нефти Brent упала ниже $35 за баррель</td>\n",
       "      <td>Курс доллара превысил 75 руб./$</td>\n",
       "      <td>Дмитрий Михайлович</td>\n",
       "      <td>NaN</td>\n",
       "      <td>NaN</td>\n",
       "      <td>NaN</td>\n",
       "      <td>NaN</td>\n",
       "      <td>NaN</td>\n",
       "      <td>k</td>\n",
       "      <td>Первая рабочая неделя нового 2016 года не прин...</td>\n",
       "      <td>2016-01-06</td>\n",
       "      <td>/doc/2888815</td>\n",
       "    </tr>\n",
       "    <tr>\n",
       "      <th>13503</th>\n",
       "      <td>Финансовый кризис в России возглавляет список ...</td>\n",
       "      <td>Дешевая нефть даже хуже дорогой</td>\n",
       "      <td>Дмитрий Бутрин</td>\n",
       "      <td>NaN</td>\n",
       "      <td>NaN</td>\n",
       "      <td>NaN</td>\n",
       "      <td>NaN</td>\n",
       "      <td>NaN</td>\n",
       "      <td>k</td>\n",
       "      <td>Более быстрый, чем ожидалось ранее, экономичес...</td>\n",
       "      <td>2016-01-07</td>\n",
       "      <td>/doc/2888894</td>\n",
       "    </tr>\n",
       "    <tr>\n",
       "      <th>4292</th>\n",
       "      <td>Онлайн-кинотеатр объявил о начале работы в 130...</td>\n",
       "      <td>Netflix подключил Россию</td>\n",
       "      <td>Роман Рожков</td>\n",
       "      <td>NaN</td>\n",
       "      <td>NaN</td>\n",
       "      <td>NaN</td>\n",
       "      <td>NaN</td>\n",
       "      <td>NaN</td>\n",
       "      <td>k</td>\n",
       "      <td>Американский видеосервис Netflix, на чью долю ...</td>\n",
       "      <td>2016-01-07</td>\n",
       "      <td>/doc/2888899</td>\n",
       "    </tr>\n",
       "  </tbody>\n",
       "</table>\n",
       "</div>"
      ],
      "text/plain": [
       "                                       artical_subheader  \\\n",
       "4291   Крым поставил в украинский Геническ 14 тысяч к...   \n",
       "4290   Туркомпании могут получить 2,765 млрд рублей с...   \n",
       "13502    Стоимость нефти Brent упала ниже $35 за баррель   \n",
       "13503  Финансовый кризис в России возглавляет список ...   \n",
       "4292   Онлайн-кинотеатр объявил о начале работы в 130...   \n",
       "\n",
       "                                          article_header             authors  \\\n",
       "4291                                  «Они нам не чужие»      Дарья Тихончук   \n",
       "4290   Правительство поддержит операторов внутреннего...      Дарья Тихончук   \n",
       "13502                    Курс доллара превысил 75 руб./$  Дмитрий Михайлович   \n",
       "13503                    Дешевая нефть даже хуже дорогой      Дмитрий Бутрин   \n",
       "4292                            Netflix подключил Россию        Роман Рожков   \n",
       "\n",
       "      category date error  id  index source  \\\n",
       "4291       NaN  NaN   NaN NaN    NaN      k   \n",
       "4290       NaN  NaN   NaN NaN    NaN      k   \n",
       "13502      NaN  NaN   NaN NaN    NaN      k   \n",
       "13503      NaN  NaN   NaN NaN    NaN      k   \n",
       "4292       NaN  NaN   NaN NaN    NaN      k   \n",
       "\n",
       "                                                    text       time  \\\n",
       "4291   Крым уже поставил около 14 тыс. кубометров газ... 2016-01-05   \n",
       "4290   Премьер-министр РФ Дмитрий Медведев заявил, чт... 2016-01-05   \n",
       "13502  Первая рабочая неделя нового 2016 года не прин... 2016-01-06   \n",
       "13503  Более быстрый, чем ожидалось ранее, экономичес... 2016-01-07   \n",
       "4292   Американский видеосервис Netflix, на чью долю ... 2016-01-07   \n",
       "\n",
       "                url  \n",
       "4291   /doc/2888618  \n",
       "4290   /doc/2888728  \n",
       "13502  /doc/2888815  \n",
       "13503  /doc/2888894  \n",
       "4292   /doc/2888899  "
      ]
     },
     "execution_count": 69,
     "metadata": {},
     "output_type": "execute_result"
    }
   ],
   "source": [
    "t.head()"
   ]
  },
  {
   "cell_type": "code",
   "execution_count": 70,
   "metadata": {
    "collapsed": true
   },
   "outputs": [],
   "source": [
    "t.to_excel('data.xlsx')"
   ]
  },
  {
   "cell_type": "markdown",
   "metadata": {},
   "source": [
    "# Описание данных"
   ]
  },
  {
   "cell_type": "code",
   "execution_count": 3,
   "metadata": {
    "collapsed": true
   },
   "outputs": [],
   "source": [
    "t = pd.read_excel('data.xlsx')\n",
    "\n",
    "del t['category']\n",
    "del t['error']\n",
    "del t['id']\n",
    "del t['index']\n",
    "del t['date']\n",
    "\n",
    "t = t.reset_index(drop = True)"
   ]
  },
  {
   "cell_type": "code",
   "execution_count": 86,
   "metadata": {},
   "outputs": [
    {
     "data": {
      "text/html": [
       "<div>\n",
       "<style>\n",
       "    .dataframe thead tr:only-child th {\n",
       "        text-align: right;\n",
       "    }\n",
       "\n",
       "    .dataframe thead th {\n",
       "        text-align: left;\n",
       "    }\n",
       "\n",
       "    .dataframe tbody tr th {\n",
       "        vertical-align: top;\n",
       "    }\n",
       "</style>\n",
       "<table border=\"1\" class=\"dataframe\">\n",
       "  <thead>\n",
       "    <tr style=\"text-align: right;\">\n",
       "      <th></th>\n",
       "      <th>artical_subheader</th>\n",
       "      <th>article_header</th>\n",
       "      <th>authors</th>\n",
       "      <th>source</th>\n",
       "      <th>text</th>\n",
       "      <th>time</th>\n",
       "      <th>url</th>\n",
       "    </tr>\n",
       "  </thead>\n",
       "  <tbody>\n",
       "    <tr>\n",
       "      <th>count</th>\n",
       "      <td>19484</td>\n",
       "      <td>19910</td>\n",
       "      <td>15289</td>\n",
       "      <td>19929</td>\n",
       "      <td>19929</td>\n",
       "      <td>19929</td>\n",
       "      <td>19929</td>\n",
       "    </tr>\n",
       "    <tr>\n",
       "      <th>unique</th>\n",
       "      <td>18989</td>\n",
       "      <td>19465</td>\n",
       "      <td>2609</td>\n",
       "      <td>3</td>\n",
       "      <td>19929</td>\n",
       "      <td>2307</td>\n",
       "      <td>19929</td>\n",
       "    </tr>\n",
       "    <tr>\n",
       "      <th>top</th>\n",
       "      <td>Мнения и прогнозы аналитиков о том, как будет ...</td>\n",
       "      <td>Правила игры</td>\n",
       "      <td>Евгений Хвостик</td>\n",
       "      <td>k</td>\n",
       "      <td>февраль российские акции начали с коррекции. и...</td>\n",
       "      <td>2016-04-25 00:00:00</td>\n",
       "      <td>/doc/3048379</td>\n",
       "    </tr>\n",
       "    <tr>\n",
       "      <th>freq</th>\n",
       "      <td>125</td>\n",
       "      <td>348</td>\n",
       "      <td>273</td>\n",
       "      <td>16594</td>\n",
       "      <td>1</td>\n",
       "      <td>47</td>\n",
       "      <td>1</td>\n",
       "    </tr>\n",
       "    <tr>\n",
       "      <th>first</th>\n",
       "      <td>NaN</td>\n",
       "      <td>NaN</td>\n",
       "      <td>NaN</td>\n",
       "      <td>NaN</td>\n",
       "      <td>NaN</td>\n",
       "      <td>2016-01-05 00:00:00</td>\n",
       "      <td>NaN</td>\n",
       "    </tr>\n",
       "    <tr>\n",
       "      <th>last</th>\n",
       "      <td>NaN</td>\n",
       "      <td>NaN</td>\n",
       "      <td>NaN</td>\n",
       "      <td>NaN</td>\n",
       "      <td>NaN</td>\n",
       "      <td>2018-05-13 19:21:11</td>\n",
       "      <td>NaN</td>\n",
       "    </tr>\n",
       "  </tbody>\n",
       "</table>\n",
       "</div>"
      ],
      "text/plain": [
       "                                        artical_subheader article_header  \\\n",
       "count                                               19484          19910   \n",
       "unique                                              18989          19465   \n",
       "top     Мнения и прогнозы аналитиков о том, как будет ...   Правила игры   \n",
       "freq                                                  125            348   \n",
       "first                                                 NaN            NaN   \n",
       "last                                                  NaN            NaN   \n",
       "\n",
       "                authors source  \\\n",
       "count             15289  19929   \n",
       "unique             2609      3   \n",
       "top     Евгений Хвостик      k   \n",
       "freq                273  16594   \n",
       "first               NaN    NaN   \n",
       "last                NaN    NaN   \n",
       "\n",
       "                                                     text  \\\n",
       "count                                               19929   \n",
       "unique                                              19929   \n",
       "top     февраль российские акции начали с коррекции. и...   \n",
       "freq                                                    1   \n",
       "first                                                 NaN   \n",
       "last                                                  NaN   \n",
       "\n",
       "                       time           url  \n",
       "count                 19929         19929  \n",
       "unique                 2307         19929  \n",
       "top     2016-04-25 00:00:00  /doc/3048379  \n",
       "freq                     47             1  \n",
       "first   2016-01-05 00:00:00           NaN  \n",
       "last    2018-05-13 19:21:11           NaN  "
      ]
     },
     "execution_count": 86,
     "metadata": {},
     "output_type": "execute_result"
    }
   ],
   "source": [
    "t.describe()"
   ]
  },
  {
   "cell_type": "code",
   "execution_count": 84,
   "metadata": {
    "collapsed": true
   },
   "outputs": [],
   "source": [
    "def lower(x): return x.lower()\n",
    "t['text'] = t['text'].apply(lower)"
   ]
  },
  {
   "cell_type": "code",
   "execution_count": 85,
   "metadata": {},
   "outputs": [
    {
     "data": {
      "text/html": [
       "<div>\n",
       "<style>\n",
       "    .dataframe thead tr:only-child th {\n",
       "        text-align: right;\n",
       "    }\n",
       "\n",
       "    .dataframe thead th {\n",
       "        text-align: left;\n",
       "    }\n",
       "\n",
       "    .dataframe tbody tr th {\n",
       "        vertical-align: top;\n",
       "    }\n",
       "</style>\n",
       "<table border=\"1\" class=\"dataframe\">\n",
       "  <thead>\n",
       "    <tr style=\"text-align: right;\">\n",
       "      <th></th>\n",
       "      <th>artical_subheader</th>\n",
       "      <th>article_header</th>\n",
       "      <th>authors</th>\n",
       "      <th>source</th>\n",
       "      <th>text</th>\n",
       "      <th>time</th>\n",
       "      <th>url</th>\n",
       "    </tr>\n",
       "  </thead>\n",
       "  <tbody>\n",
       "    <tr>\n",
       "      <th>0</th>\n",
       "      <td>Крым поставил в украинский Геническ 14 тысяч к...</td>\n",
       "      <td>«Они нам не чужие»</td>\n",
       "      <td>Дарья Тихончук</td>\n",
       "      <td>k</td>\n",
       "      <td>крым уже поставил около 14 тыс. кубометров газ...</td>\n",
       "      <td>2016-01-05</td>\n",
       "      <td>/doc/2888618</td>\n",
       "    </tr>\n",
       "    <tr>\n",
       "      <th>1</th>\n",
       "      <td>Туркомпании могут получить 2,765 млрд рублей с...</td>\n",
       "      <td>Правительство поддержит операторов внутреннего...</td>\n",
       "      <td>Дарья Тихончук</td>\n",
       "      <td>k</td>\n",
       "      <td>премьер-министр рф дмитрий медведев заявил, чт...</td>\n",
       "      <td>2016-01-05</td>\n",
       "      <td>/doc/2888728</td>\n",
       "    </tr>\n",
       "    <tr>\n",
       "      <th>2</th>\n",
       "      <td>Стоимость нефти Brent упала ниже $35 за баррель</td>\n",
       "      <td>Курс доллара превысил 75 руб./$</td>\n",
       "      <td>Дмитрий Михайлович</td>\n",
       "      <td>k</td>\n",
       "      <td>первая рабочая неделя нового 2016 года не прин...</td>\n",
       "      <td>2016-01-06</td>\n",
       "      <td>/doc/2888815</td>\n",
       "    </tr>\n",
       "    <tr>\n",
       "      <th>3</th>\n",
       "      <td>Финансовый кризис в России возглавляет список ...</td>\n",
       "      <td>Дешевая нефть даже хуже дорогой</td>\n",
       "      <td>Дмитрий Бутрин</td>\n",
       "      <td>k</td>\n",
       "      <td>более быстрый, чем ожидалось ранее, экономичес...</td>\n",
       "      <td>2016-01-07</td>\n",
       "      <td>/doc/2888894</td>\n",
       "    </tr>\n",
       "    <tr>\n",
       "      <th>4</th>\n",
       "      <td>Онлайн-кинотеатр объявил о начале работы в 130...</td>\n",
       "      <td>Netflix подключил Россию</td>\n",
       "      <td>Роман Рожков</td>\n",
       "      <td>k</td>\n",
       "      <td>американский видеосервис netflix, на чью долю ...</td>\n",
       "      <td>2016-01-07</td>\n",
       "      <td>/doc/2888899</td>\n",
       "    </tr>\n",
       "  </tbody>\n",
       "</table>\n",
       "</div>"
      ],
      "text/plain": [
       "                                   artical_subheader  \\\n",
       "0  Крым поставил в украинский Геническ 14 тысяч к...   \n",
       "1  Туркомпании могут получить 2,765 млрд рублей с...   \n",
       "2    Стоимость нефти Brent упала ниже $35 за баррель   \n",
       "3  Финансовый кризис в России возглавляет список ...   \n",
       "4  Онлайн-кинотеатр объявил о начале работы в 130...   \n",
       "\n",
       "                                      article_header             authors  \\\n",
       "0                                 «Они нам не чужие»      Дарья Тихончук   \n",
       "1  Правительство поддержит операторов внутреннего...      Дарья Тихончук   \n",
       "2                    Курс доллара превысил 75 руб./$  Дмитрий Михайлович   \n",
       "3                    Дешевая нефть даже хуже дорогой      Дмитрий Бутрин   \n",
       "4                           Netflix подключил Россию        Роман Рожков   \n",
       "\n",
       "  source                                               text       time  \\\n",
       "0      k  крым уже поставил около 14 тыс. кубометров газ... 2016-01-05   \n",
       "1      k  премьер-министр рф дмитрий медведев заявил, чт... 2016-01-05   \n",
       "2      k  первая рабочая неделя нового 2016 года не прин... 2016-01-06   \n",
       "3      k  более быстрый, чем ожидалось ранее, экономичес... 2016-01-07   \n",
       "4      k  американский видеосервис netflix, на чью долю ... 2016-01-07   \n",
       "\n",
       "            url  \n",
       "0  /doc/2888618  \n",
       "1  /doc/2888728  \n",
       "2  /doc/2888815  \n",
       "3  /doc/2888894  \n",
       "4  /doc/2888899  "
      ]
     },
     "execution_count": 85,
     "metadata": {},
     "output_type": "execute_result"
    }
   ],
   "source": [
    "t.head()"
   ]
  },
  {
   "cell_type": "code",
   "execution_count": null,
   "metadata": {
    "collapsed": true
   },
   "outputs": [],
   "source": []
  },
  {
   "cell_type": "code",
   "execution_count": null,
   "metadata": {
    "collapsed": true
   },
   "outputs": [],
   "source": []
  },
  {
   "cell_type": "code",
   "execution_count": null,
   "metadata": {
    "collapsed": true
   },
   "outputs": [],
   "source": []
  },
  {
   "cell_type": "code",
   "execution_count": null,
   "metadata": {
    "collapsed": true
   },
   "outputs": [],
   "source": []
  },
  {
   "cell_type": "markdown",
   "metadata": {},
   "source": [
    "# Загрузка NLTK"
   ]
  },
  {
   "cell_type": "code",
   "execution_count": 6,
   "metadata": {},
   "outputs": [
    {
     "name": "stdout",
     "output_type": "stream",
     "text": [
      "[nltk_data] Downloading package stopwords to\n",
      "[nltk_data]     C:\\Users\\defimov\\AppData\\Roaming\\nltk_data...\n",
      "[nltk_data]   Unzipping corpora\\stopwords.zip.\n"
     ]
    },
    {
     "data": {
      "text/plain": [
       "True"
      ]
     },
     "execution_count": 6,
     "metadata": {},
     "output_type": "execute_result"
    }
   ],
   "source": [
    "nltk.download('stopwords')"
   ]
  },
  {
   "cell_type": "code",
   "execution_count": 13,
   "metadata": {
    "scrolled": true
   },
   "outputs": [
    {
     "name": "stdout",
     "output_type": "stream",
     "text": [
      "[nltk_data] Downloading package punkt to\n",
      "[nltk_data]     C:\\Users\\defimov\\AppData\\Roaming\\nltk_data...\n",
      "[nltk_data]   Unzipping tokenizers\\punkt.zip.\n"
     ]
    },
    {
     "data": {
      "text/plain": [
       "True"
      ]
     },
     "execution_count": 13,
     "metadata": {},
     "output_type": "execute_result"
    }
   ],
   "source": [
    "nltk.download('punkt')"
   ]
  },
  {
   "cell_type": "code",
   "execution_count": 212,
   "metadata": {
    "scrolled": true
   },
   "outputs": [
    {
     "name": "stdout",
     "output_type": "stream",
     "text": [
      "[nltk_data] Downloading package wordnet to\n",
      "[nltk_data]     C:\\Users\\defimov\\AppData\\Roaming\\nltk_data...\n",
      "[nltk_data]   Package wordnet is already up-to-date!\n"
     ]
    },
    {
     "data": {
      "text/plain": [
       "True"
      ]
     },
     "execution_count": 212,
     "metadata": {},
     "output_type": "execute_result"
    }
   ],
   "source": [
    "nltk.download('wordnet')"
   ]
  },
  {
   "cell_type": "code",
   "execution_count": 213,
   "metadata": {
    "scrolled": true
   },
   "outputs": [
    {
     "name": "stdout",
     "output_type": "stream",
     "text": [
      "[nltk_data] Downloading package omw to\n",
      "[nltk_data]     C:\\Users\\defimov\\AppData\\Roaming\\nltk_data...\n",
      "[nltk_data]   Unzipping corpora\\omw.zip.\n"
     ]
    },
    {
     "data": {
      "text/plain": [
       "True"
      ]
     },
     "execution_count": 213,
     "metadata": {},
     "output_type": "execute_result"
    }
   ],
   "source": [
    "nltk.download('omw')"
   ]
  },
  {
   "cell_type": "markdown",
   "metadata": {},
   "source": [
    "# Обработка"
   ]
  },
  {
   "cell_type": "code",
   "execution_count": 20,
   "metadata": {
    "collapsed": true
   },
   "outputs": [],
   "source": [
    "import nltk\n",
    "from nltk.corpus import stopwords\n",
    "from nltk.corpus import brown\n",
    "import re"
   ]
  },
  {
   "cell_type": "code",
   "execution_count": 147,
   "metadata": {
    "collapsed": true
   },
   "outputs": [],
   "source": [
    "def clear_text(x):\n",
    "    return re.sub(' +',u' ', re.sub(u'[^а-я ]',u'', x.lower()))\n",
    "\n",
    "t['text_clear'] = t['text'].apply(clear_text)"
   ]
  },
  {
   "cell_type": "code",
   "execution_count": 27,
   "metadata": {},
   "outputs": [
    {
     "name": "stdout",
     "output_type": "stream",
     "text": [
      "привет фвыалод фв фва вфа фва\n"
     ]
    }
   ],
   "source": [
    "print re.sub(' +',u' ', re.sub(u'[^а-я ]',u' ', u'привет фвыалод - фв- фва вфа-фва'.lower()))"
   ]
  },
  {
   "cell_type": "code",
   "execution_count": 149,
   "metadata": {
    "collapsed": true
   },
   "outputs": [],
   "source": [
    "t.to_excel('data_1.xlsx')"
   ]
  },
  {
   "cell_type": "code",
   "execution_count": 11,
   "metadata": {
    "collapsed": true
   },
   "outputs": [],
   "source": []
  },
  {
   "cell_type": "code",
   "execution_count": 18,
   "metadata": {
    "collapsed": true
   },
   "outputs": [],
   "source": []
  },
  {
   "cell_type": "code",
   "execution_count": null,
   "metadata": {
    "collapsed": true
   },
   "outputs": [],
   "source": []
  },
  {
   "cell_type": "code",
   "execution_count": 152,
   "metadata": {},
   "outputs": [
    {
     "name": "stdout",
     "output_type": "stream",
     "text": [
      " 19929\n",
      "19928 121.290999889                                                                                                                                                                                                                                                                            \n"
     ]
    }
   ],
   "source": [
    "# токенизируем все\n",
    "time0 = time.time()\n",
    "tokens = []\n",
    "l = t['text_clear'].tolist()\n",
    "print len(l)\n",
    "\n",
    "for i in range(0,len(l)):\n",
    "    print '\\r', i,\n",
    "    tokens.append(nltk.word_tokenize(l[i]))\n",
    "print time.time() - time0"
   ]
  },
  {
   "cell_type": "code",
   "execution_count": 153,
   "metadata": {
    "collapsed": true
   },
   "outputs": [],
   "source": [
    "with open('tokens.pkl', 'wb') as f:\n",
    "    pickle.dump(tokens, f)"
   ]
  },
  {
   "cell_type": "code",
   "execution_count": 40,
   "metadata": {
    "collapsed": true
   },
   "outputs": [],
   "source": [
    "with open('tokens.pkl', 'rb') as f:\n",
    "    tok = pickle.load(f)"
   ]
  },
  {
   "cell_type": "code",
   "execution_count": 42,
   "metadata": {},
   "outputs": [
    {
     "name": "stdout",
     "output_type": "stream",
     "text": [
      "100\n"
     ]
    }
   ],
   "source": [
    "print len(tok)"
   ]
  },
  {
   "cell_type": "code",
   "execution_count": 21,
   "metadata": {},
   "outputs": [
    {
     "ename": "NameError",
     "evalue": "name 'tokens' is not defined",
     "output_type": "error",
     "traceback": [
      "\u001b[1;31m---------------------------------------------------------------------------\u001b[0m",
      "\u001b[1;31mNameError\u001b[0m                                 Traceback (most recent call last)",
      "\u001b[1;32m<ipython-input-21-747d2b2b9938>\u001b[0m in \u001b[0;36m<module>\u001b[1;34m()\u001b[0m\n\u001b[0;32m      3\u001b[0m     \u001b[1;32mreturn\u001b[0m \u001b[1;33m[\u001b[0m\u001b[0mword\u001b[0m \u001b[1;32mfor\u001b[0m \u001b[0mword\u001b[0m \u001b[1;32min\u001b[0m \u001b[0mx\u001b[0m \u001b[1;32mif\u001b[0m \u001b[0mword\u001b[0m \u001b[1;32mnot\u001b[0m \u001b[1;32min\u001b[0m \u001b[0mstop_words\u001b[0m\u001b[1;33m]\u001b[0m\u001b[1;33m\u001b[0m\u001b[0m\n\u001b[0;32m      4\u001b[0m \u001b[1;33m\u001b[0m\u001b[0m\n\u001b[1;32m----> 5\u001b[1;33m \u001b[1;32mprint\u001b[0m \u001b[0mlen\u001b[0m\u001b[1;33m(\u001b[0m\u001b[0mtokens\u001b[0m\u001b[1;33m)\u001b[0m\u001b[1;33m\u001b[0m\u001b[0m\n\u001b[0m\u001b[0;32m      6\u001b[0m \u001b[0mtokens_nostopwords\u001b[0m \u001b[1;33m=\u001b[0m \u001b[1;33m[\u001b[0m\u001b[1;33m]\u001b[0m\u001b[1;33m\u001b[0m\u001b[0m\n\u001b[0;32m      7\u001b[0m \u001b[1;33m\u001b[0m\u001b[0m\n",
      "\u001b[1;31mNameError\u001b[0m: name 'tokens' is not defined"
     ]
    }
   ],
   "source": [
    "stop_words = nltk.corpus.stopwords.words('russian')\n",
    "def delete_stop_words(x):\n",
    "    return [word for word in x if word not in stop_words]\n",
    "\n",
    "print len(tokens)\n",
    "tokens_nostopwords = []\n",
    "\n",
    "time0 = time.time()\n",
    "for i in range(0,len(tokens)):\n",
    "    print '\\r', i,\n",
    "    tokens_nostopwords = tokens_nostopwords + [delete_stop_words(tokens[i])]\n",
    "print time.time() - time0"
   ]
  },
  {
   "cell_type": "code",
   "execution_count": 179,
   "metadata": {
    "collapsed": true
   },
   "outputs": [],
   "source": [
    "with open('tokens_nostopwords.pkl', 'wb') as f:\n",
    "    pickle.dump(tokens, f)"
   ]
  },
  {
   "cell_type": "code",
   "execution_count": 180,
   "metadata": {},
   "outputs": [
    {
     "name": "stdout",
     "output_type": "stream",
     "text": [
      "19929\n",
      "19929\n"
     ]
    }
   ],
   "source": [
    "print len(tokens)\n",
    "print len(tokens_nostopwords)"
   ]
  },
  {
   "cell_type": "code",
   "execution_count": 24,
   "metadata": {},
   "outputs": [
    {
     "name": "stdout",
     "output_type": "stream",
     "text": [
      "и\n",
      "в\n",
      "во\n",
      "не\n",
      "что\n",
      "он\n",
      "на\n",
      "я\n",
      "с\n",
      "со\n",
      "как\n",
      "а\n",
      "то\n",
      "все\n",
      "она\n",
      "так\n",
      "его\n",
      "но\n",
      "да\n",
      "ты\n",
      "к\n",
      "у\n",
      "же\n",
      "вы\n",
      "за\n",
      "бы\n",
      "по\n",
      "только\n",
      "ее\n",
      "мне\n",
      "было\n",
      "вот\n",
      "от\n",
      "меня\n",
      "еще\n",
      "нет\n",
      "о\n",
      "из\n",
      "ему\n",
      "теперь\n",
      "когда\n",
      "даже\n",
      "ну\n",
      "вдруг\n",
      "ли\n",
      "если\n",
      "уже\n",
      "или\n",
      "ни\n",
      "быть\n",
      "был\n",
      "него\n",
      "до\n",
      "вас\n",
      "нибудь\n",
      "опять\n",
      "уж\n",
      "вам\n",
      "ведь\n",
      "там\n",
      "потом\n",
      "себя\n",
      "ничего\n",
      "ей\n",
      "может\n",
      "они\n",
      "тут\n",
      "где\n",
      "есть\n",
      "надо\n",
      "ней\n",
      "для\n",
      "мы\n",
      "тебя\n",
      "их\n",
      "чем\n",
      "была\n",
      "сам\n",
      "чтоб\n",
      "без\n",
      "будто\n",
      "чего\n",
      "раз\n",
      "тоже\n",
      "себе\n",
      "под\n",
      "будет\n",
      "ж\n",
      "тогда\n",
      "кто\n",
      "этот\n",
      "того\n",
      "потому\n",
      "этого\n",
      "какой\n",
      "совсем\n",
      "ним\n",
      "здесь\n",
      "этом\n",
      "один\n",
      "почти\n",
      "мой\n",
      "тем\n",
      "чтобы\n",
      "нее\n",
      "сейчас\n",
      "были\n",
      "куда\n",
      "зачем\n",
      "всех\n",
      "никогда\n",
      "можно\n",
      "при\n",
      "наконец\n",
      "два\n",
      "об\n",
      "другой\n",
      "хоть\n",
      "после\n",
      "над\n",
      "больше\n",
      "тот\n",
      "через\n",
      "эти\n",
      "нас\n",
      "про\n",
      "всего\n",
      "них\n",
      "какая\n",
      "много\n",
      "разве\n",
      "три\n",
      "эту\n",
      "моя\n",
      "впрочем\n",
      "хорошо\n",
      "свою\n",
      "этой\n",
      "перед\n",
      "иногда\n",
      "лучше\n",
      "чуть\n",
      "том\n",
      "нельзя\n",
      "такой\n",
      "им\n",
      "более\n",
      "всегда\n",
      "конечно\n",
      "всю\n",
      "между\n"
     ]
    }
   ],
   "source": [
    "for x in stop_words: print x"
   ]
  },
  {
   "cell_type": "markdown",
   "metadata": {},
   "source": [
    "# Очистка слов"
   ]
  },
  {
   "cell_type": "code",
   "execution_count": 193,
   "metadata": {},
   "outputs": [
    {
     "name": "stdout",
     "output_type": "stream",
     "text": [
      "19929\n",
      "19928                                                                                                                                                                                                                                                                                                                                                                                                                                                                                                                                                                                                                                                                                                                                                                                                                                                                                                                                                                                                                                                                                                                                                                                                                                                                                                                                                                                                                                                                                                                                                                                                                                                                                                                                                                                                                                                                                                                                                                                                                                                                                                                                                                                                                                                                                                                                                                                                                                                                                                                                                                                                                                                                                                                                                                                                                                                                                                                                                                                                                                                                                                                                                                                                                                                                                                                                       \n"
     ]
    }
   ],
   "source": [
    "from nltk.stem import  SnowballStemmer\n",
    "stemmer = SnowballStemmer('russian')\n",
    "tokens_st = []\n",
    "\n",
    "print len(tokens_nostopwords)\n",
    "for i in range(0,len(tokens_nostopwords)):\n",
    "    print '\\r', i,\n",
    "    stem = [stemmer.stem(w) for w in tokens_nostopwords[i]]\n",
    "    tokens_st = tokens_st + [stem]"
   ]
  },
  {
   "cell_type": "code",
   "execution_count": 195,
   "metadata": {
    "collapsed": true
   },
   "outputs": [],
   "source": [
    "with open('tokens_stem.pkl', 'wb') as f:\n",
    "    pickle.dump(tokens_st, f)"
   ]
  },
  {
   "cell_type": "markdown",
   "metadata": {},
   "source": [
    "# Синонимы"
   ]
  },
  {
   "cell_type": "code",
   "execution_count": 210,
   "metadata": {
    "collapsed": true
   },
   "outputs": [],
   "source": [
    "from nltk.corpus import wordnet as wn\n",
    "from nltk.corpus.reader.plaintext import PlaintextCorpusReader"
   ]
  },
  {
   "cell_type": "code",
   "execution_count": 217,
   "metadata": {},
   "outputs": [
    {
     "data": {
      "text/plain": [
       "FileSystemPathPointer(u'C:\\\\Users\\\\defimov\\\\AppData\\\\Roaming\\\\nltk_data\\\\corpora\\\\wordnet')"
      ]
     },
     "execution_count": 217,
     "metadata": {},
     "output_type": "execute_result"
    }
   ],
   "source": [
    "wn.root"
   ]
  },
  {
   "cell_type": "code",
   "execution_count": null,
   "metadata": {
    "collapsed": true
   },
   "outputs": [],
   "source": []
  },
  {
   "cell_type": "code",
   "execution_count": 208,
   "metadata": {},
   "outputs": [
    {
     "data": {
      "text/plain": [
       "[Synset('small.n.01'),\n",
       " Synset('small.n.02'),\n",
       " Synset('small.a.01'),\n",
       " Synset('minor.s.10'),\n",
       " Synset('little.s.03'),\n",
       " Synset('small.s.04'),\n",
       " Synset('humble.s.01'),\n",
       " Synset('little.s.07'),\n",
       " Synset('little.s.05'),\n",
       " Synset('small.s.08'),\n",
       " Synset('modest.s.02'),\n",
       " Synset('belittled.s.01'),\n",
       " Synset('small.r.01')]"
      ]
     },
     "execution_count": 208,
     "metadata": {},
     "output_type": "execute_result"
    }
   ],
   "source": [
    "wn.synsets(u'small')"
   ]
  },
  {
   "cell_type": "code",
   "execution_count": null,
   "metadata": {
    "collapsed": true
   },
   "outputs": [],
   "source": []
  },
  {
   "cell_type": "code",
   "execution_count": 4,
   "metadata": {
    "collapsed": true
   },
   "outputs": [],
   "source": [
    "with open('tokens_stem.pkl', 'rb') as f:\n",
    "    tok = pickle.load(f)"
   ]
  },
  {
   "cell_type": "code",
   "execution_count": 10,
   "metadata": {},
   "outputs": [
    {
     "name": "stdout",
     "output_type": "stream",
     "text": [
      "крым постав окол тыс кубометр газ находя херсонск област украинск город геническ изз холод вышл стро отопительн прибор сообщ глав крым серг аксен мэр геническ александр тулуп зав обраща помощ владимир путин назва информац провокац украинск нафтогаз утвержда геническ обеспечива исключительн украинск газ нам чуж независим национальн котор хот жит нормальн успешн стран сожален везет везл нам счита независим отношен правительств украин наш руководств граждан украин страда должн цитир ри новост глав крым серге аксенов подчеркнул жител правительств украин эт абсолютн разн люд выраз готовн поддержа населен украин сложн ситуац господин аксен напомн прошл год крым поставля газ геническ период холод прошл год постав окол тыс кубометр газ геническ год такж нам поступ обращен помоч наш сосед сложн период добав глав крым серг аксен отмет геническ поставл окол тыс кубометр газ наканун пресссекретар президент рф дмитр песк сообщ мэр геническ александр тулуп попрос владимир путин налад поставк газ жител город замерзл господин песк заяв российск лидер рассмотрел эт обращен исход гуманитарн соображен поруч проработа вопрос обеспечен газ украинск город крымск компан черноморнефтегаз нача поставк газ геническ ран сообщ глав компан игор шабан слов предполага обь суточн поставок тыс кубометр сутк зависим погод потреблен однак сегодн мэр город геническ александр тулуп заяв украинск издан ун обраща помощ владимир путин назва информац просьб помощ российск сторон провокац путин звон письм путин писа вел переговор украинск правительств нам забра наш газ котор наход хранилищ джанко эт газ российск эт газ наш котор перекр лет реверсн заяв господин тулуп глав геническ район госадминистрац алекс сыщенк сегодн сообщ настоя врем южноукраинск город получа газ глебовск подземн хранилищ крым полн объем уточн договарива поставк газ договорен так уровн эт полномоч геническ район администрац просьб помоч обраща депутат верховн рад областн государствен администрац кабинет министр переговор вел сказа господин сыщенк очеред украинск компан нафтогаз утвержда поставок российск газ такж черноморнефтегаз город херсонск област изначальн газ закачива областн месторожден стрелков заявлен компан подчеркива город физическ присоедин друг участк украинск газотранспортн сет сообщен такж подчеркива избыток газ котор доб лет хран глебовск пхг расположен территор крым откуд зимн период поставля обратн жител геническ поч украин конц год заплат газпр газпр ноябр прекрат поставк газ украин поступлен нов платеж киев настаива пок необходим нов закупк газ росс собира взят пауз подним необходим объем подземн хранилищ возобнов закупк украин хочет лиш перв квартал год чита подробн дар тихончук\n"
     ]
    }
   ],
   "source": [
    "print ' '.join(tok[0])"
   ]
  },
  {
   "cell_type": "code",
   "execution_count": 12,
   "metadata": {},
   "outputs": [
    {
     "name": "stdout",
     "output_type": "stream",
     "text": [
      "19929\n",
      "19929\n"
     ]
    }
   ],
   "source": [
    "print len(tok)\n",
    "print len(t)"
   ]
  },
  {
   "cell_type": "code",
   "execution_count": 14,
   "metadata": {},
   "outputs": [
    {
     "name": "stdout",
     "output_type": "stream",
     "text": [
      "19928        \n"
     ]
    }
   ],
   "source": [
    "s = []\n",
    "for i in range(0,len(tok)):\n",
    "    print '\\r',i,\n",
    "    s = s + [' '.join(tok[i])]"
   ]
  },
  {
   "cell_type": "code",
   "execution_count": 15,
   "metadata": {
    "collapsed": true
   },
   "outputs": [],
   "source": [
    "t['text_clear'] = s"
   ]
  },
  {
   "cell_type": "code",
   "execution_count": 17,
   "metadata": {
    "collapsed": true
   },
   "outputs": [],
   "source": [
    "t.to_excel('data.xlsx')"
   ]
  }
 ],
 "metadata": {
  "kernelspec": {
   "display_name": "Python 3",
   "language": "python",
   "name": "python3"
  },
  "language_info": {
   "codemirror_mode": {
    "name": "ipython",
    "version": 3
   },
   "file_extension": ".py",
   "mimetype": "text/x-python",
   "name": "python",
   "nbconvert_exporter": "python",
   "pygments_lexer": "ipython3",
   "version": "3.7.1"
  }
 },
 "nbformat": 4,
 "nbformat_minor": 2
}
